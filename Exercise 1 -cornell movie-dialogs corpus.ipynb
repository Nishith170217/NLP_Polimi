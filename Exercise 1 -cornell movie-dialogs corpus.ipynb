{
 "cells": [
  {
   "cell_type": "code",
   "execution_count": 1,
   "id": "66375504",
   "metadata": {},
   "outputs": [],
   "source": [
    "with open('docs/cornell movie-dialogs corpus/movie_lines.txt') as f:\n",
    "    lines = f.read()"
   ]
  },
  {
   "cell_type": "code",
   "execution_count": 3,
   "id": "f619572c",
   "metadata": {},
   "outputs": [
    {
     "name": "stdout",
     "output_type": "stream",
     "text": [
      "L1045 +++$+++ u0 +++$+++ m0 +++$+++ BIANCA +++$+++ They do not!\n",
      "L1044 +++$+++ u2 +++$+++ m0 +++$+++ CAMERON +++$+++ They do to!\n",
      "L985 +++$+++ u0 +++$+++ m0 +++$+++ BIANCA +++$+++ I hope so.\n",
      "L984 +++$+++ u2 +++$+++ m0 +++$+++ CAMERON +++$+++ She okay?\n",
      "L925 +++$+++ u0 +++$+++ m0 +++$+++ BIANCA +++$+++ Let's go.\n",
      "L924 +++$+++ u2 +++$+++ m0 +++$+++ CAMERON +++$+++ Wow\n",
      "L872 +++$+++ u0 +++$+++ m0 +++$+++ BIANCA +++$+++ Okay -- you're gonna need to learn how to lie.\n",
      "L871 +++$+++ u2 +++$+++ m0 +++$+++ CAMERON +++$+++ No\n",
      "L870 +++$+++ u0 +++$+++ m0 +++$+++ BIANCA +++$+++ I'm kidding.  You know how sometimes you just become this \"persona\"?  And you don't know how to quit?\n",
      "L869 +++$+++ u0 +++$+++ m0 +++$+++ BIANCA +++$+++ Like my fear of wearing pastels?\n",
      "L868 +++$+++ u2 +++$+++ m0 +++$+++ CAMERON +++$+++ The \"real you\".\n",
      "L867 +++$+++ u0 +++$+++ m0 +++$+++ BIANCA +++$+++ What good stuff?\n",
      "L866 +++$+++ u2 +++$+++ m0 +++$+++ CAMERON +++$+++ I figured you'd get to the good stuff eventually.\n",
      "L865 +++$+++ u\n"
     ]
    }
   ],
   "source": [
    "print(lines[:1000])"
   ]
  },
  {
   "cell_type": "code",
   "execution_count": 4,
   "id": "8eec8278",
   "metadata": {},
   "outputs": [],
   "source": [
    "with open('docs/cornell movie-dialogs corpus/movie_conversations.txt') as f:\n",
    "    lines_list = f.read()"
   ]
  },
  {
   "cell_type": "code",
   "execution_count": 6,
   "id": "ad5b1ba3",
   "metadata": {},
   "outputs": [
    {
     "name": "stdout",
     "output_type": "stream",
     "text": [
      "u0 +++$+++ u2 +++$+++ m0 +++$+++ ['L194', 'L195', 'L196', 'L197']\n",
      "u0 +++$+++ u2 +++$+++ m0 +++$+++ ['L198', 'L199']\n",
      "u0 +++$+++ u2 +++$+++ m0 +++$+++ ['L200', 'L201', 'L202', 'L203']\n",
      "u0 +++$+++ u2 +++$+++ m0 +++$+++ ['L204', 'L205', 'L206']\n",
      "u0 +++$+++ u2 +++$+++ m0 +++$+++ ['L207', 'L208']\n",
      "u0 +++$+++ u2 +++$+++ m0 +++$+++ ['L271', 'L272', 'L273', 'L274', 'L275']\n",
      "u0 +++$+++ u2 +++$+++ m0 +++$+++ ['L276', 'L277']\n",
      "u0 +++$+++ u2 +++$+++ m0 +++$+++ ['L280', 'L281']\n",
      "u0 +++$+++ u2 +++$+++ m0 +++$+++ ['L363', 'L364']\n",
      "u0 +++$+++ u2 +++$+++ m0 +++$+++ ['L365', 'L366']\n",
      "u0 +++$+++ u2 +++$+++ m0 +++$+++ ['L367', 'L368']\n",
      "u0 +++$+++ u2 +++$+++ m0 +++$+++ ['L401', 'L402', 'L403']\n",
      "u0 +++$+++ u2 +++$+++ m0 +++$+++ ['L404', 'L405', 'L406', 'L407']\n",
      "u0 +++$+++ u2 +++$+++ m0 +++$+++ ['L575', 'L576']\n",
      "u0 +++$+++ u2 +++$+++ m0 +++$+++ ['L577', 'L578']\n",
      "u0 +++$+++ u2 +++$+++ m0 +++$+++ ['L662', 'L663']\n",
      "u0 +++$+++ u2 +++$+++ m0 +++$+++ ['L693', 'L694', 'L695']\n",
      "u0 +++$+++ u2 +++$+++ m0 +++$+++ ['L696', 'L697', 'L69\n"
     ]
    }
   ],
   "source": [
    "print(lines_list[:1000])"
   ]
  },
  {
   "cell_type": "code",
   "execution_count": 9,
   "id": "0b4f2aa6",
   "metadata": {},
   "outputs": [
    {
     "name": "stdout",
     "output_type": "stream",
     "text": [
      "Regular expression: '(L\\d+) \\+\\+\\+\\$\\+\\+\\+ u\\d+ \\+\\+\\+\\$\\+\\+\\+ m\\d+ \\+\\+\\+\\$\\+\\+\\+ ([\\w\\s]+) \\+\\+\\+\\$\\+\\+\\+ (.+)'\n",
      "Returns:\n"
     ]
    },
    {
     "data": {
      "text/plain": [
       "[('L1045', 'BIANCA', 'They do not!'),\n",
       " ('L1044', 'CAMERON', 'They do to!'),\n",
       " ('L985', 'BIANCA', 'I hope so.'),\n",
       " ('L984', 'CAMERON', 'She okay?'),\n",
       " ('L925', 'BIANCA', \"Let's go.\"),\n",
       " ('L924', 'CAMERON', 'Wow'),\n",
       " ('L872', 'BIANCA', \"Okay -- you're gonna need to learn how to lie.\"),\n",
       " ('L871', 'CAMERON', 'No'),\n",
       " ('L870',\n",
       "  'BIANCA',\n",
       "  'I\\'m kidding.  You know how sometimes you just become this \"persona\"?  And you don\\'t know how to quit?'),\n",
       " ('L869', 'BIANCA', 'Like my fear of wearing pastels?'),\n",
       " ('L868', 'CAMERON', 'The \"real you\".'),\n",
       " ('L867', 'BIANCA', 'What good stuff?'),\n",
       " ('L866', 'CAMERON', \"I figured you'd get to the good stuff eventually.\")]"
      ]
     },
     "execution_count": 9,
     "metadata": {},
     "output_type": "execute_result"
    }
   ],
   "source": [
    "import re\n",
    "regex = '(L\\d+) \\+\\+\\+\\$\\+\\+\\+ u\\d+ \\+\\+\\+\\$\\+\\+\\+ m\\d+ \\+\\+\\+\\$\\+\\+\\+ ([\\w\\s]+) \\+\\+\\+\\$\\+\\+\\+ (.+)'\n",
    "print(f\"Regular expression: '{regex}'\")\n",
    "print(\"Returns:\")\n",
    "re.findall(regex, lines[:1000])"
   ]
  },
  {
   "cell_type": "code",
   "execution_count": 10,
   "id": "2673bd8e",
   "metadata": {},
   "outputs": [],
   "source": [
    "lines = {key: {'speaker': sp, 'text': txt} for key, sp, txt in re.findall(regex, lines)}"
   ]
  },
  {
   "cell_type": "code",
   "execution_count": 11,
   "id": "a99c8c39",
   "metadata": {},
   "outputs": [
    {
     "name": "stdout",
     "output_type": "stream",
     "text": [
      "<class 'dict'>\n",
      "{'speaker': 'CAMERON', 'text': 'The \"real you\".'}\n",
      "<class 'dict'>\n",
      "BIANCA\n",
      "What good stuff?\n"
     ]
    }
   ],
   "source": [
    "print(type(lines))\n",
    "print(lines['L868'])\n",
    "print(type(lines['L868']))\n",
    "print(lines['L867']['speaker'])\n",
    "print(lines['L867']['text'])"
   ]
  },
  {
   "cell_type": "code",
   "execution_count": 12,
   "id": "129e01a7",
   "metadata": {},
   "outputs": [
    {
     "name": "stdout",
     "output_type": "stream",
     "text": [
      "Regular expression: 'u\\d+ \\+\\+\\+\\$\\+\\+\\+ u\\d+ \\+\\+\\+\\$\\+\\+\\+ m\\d+ \\+\\+\\+\\$\\+\\+\\+ \\[(.+)\\]'\n",
      "Returns:\n"
     ]
    },
    {
     "data": {
      "text/plain": [
       "[\"'L194', 'L195', 'L196', 'L197'\",\n",
       " \"'L198', 'L199'\",\n",
       " \"'L200', 'L201', 'L202', 'L203'\",\n",
       " \"'L204', 'L205', 'L206'\",\n",
       " \"'L207', 'L208'\",\n",
       " \"'L271', 'L272', 'L273', 'L274', 'L275'\",\n",
       " \"'L276', 'L277'\",\n",
       " \"'L280', 'L281'\",\n",
       " \"'L363', 'L364'\",\n",
       " \"'L365', 'L366'\",\n",
       " \"'L367', 'L368'\",\n",
       " \"'L401', 'L402', 'L403'\",\n",
       " \"'L404', 'L405', 'L406', 'L407'\",\n",
       " \"'L575', 'L576'\",\n",
       " \"'L577', 'L578'\",\n",
       " \"'L662', 'L663'\",\n",
       " \"'L693', 'L694', 'L695'\"]"
      ]
     },
     "execution_count": 12,
     "metadata": {},
     "output_type": "execute_result"
    }
   ],
   "source": [
    "list_regex = 'u\\d+ \\+\\+\\+\\$\\+\\+\\+ u\\d+ \\+\\+\\+\\$\\+\\+\\+ m\\d+ \\+\\+\\+\\$\\+\\+\\+ \\[(.+)\\]'\n",
    "print(f\"Regular expression: '{list_regex}'\")\n",
    "print(\"Returns:\")\n",
    "re.findall(list_regex, lines_list[:1000])"
   ]
  },
  {
   "cell_type": "code",
   "execution_count": 13,
   "id": "c1bfc4c7",
   "metadata": {},
   "outputs": [
    {
     "name": "stdout",
     "output_type": "stream",
     "text": [
      "Regular expression: 'L\\d+'\n",
      "String: \"'L194', 'L195', 'L196', 'L197'\"\n",
      "Returns:\n"
     ]
    },
    {
     "data": {
      "text/plain": [
       "['L194', 'L195', 'L196', 'L197']"
      ]
     },
     "execution_count": 13,
     "metadata": {},
     "output_type": "execute_result"
    }
   ],
   "source": [
    "elem_regex = 'L\\d+'\n",
    "s = re.findall(list_regex, lines_list[:1000])[0]\n",
    "print(f\"Regular expression: '{elem_regex}'\")\n",
    "print(f\"String: \\\"{s}\\\"\")\n",
    "print(\"Returns:\")\n",
    "re.findall(elem_regex, s)"
   ]
  },
  {
   "cell_type": "code",
   "execution_count": 14,
   "id": "44673f2d",
   "metadata": {},
   "outputs": [
    {
     "name": "stdout",
     "output_type": "stream",
     "text": [
      "<class 'list'>\n",
      "<class 'str'>\n"
     ]
    }
   ],
   "source": [
    "print(type(re.findall(elem_regex, s)))\n",
    "print(type(re.findall(elem_regex, s)[0]))"
   ]
  },
  {
   "cell_type": "code",
   "execution_count": 15,
   "id": "8c286dae",
   "metadata": {},
   "outputs": [
    {
     "data": {
      "text/plain": [
       "[['L194', 'L195', 'L196', 'L197'],\n",
       " ['L198', 'L199'],\n",
       " ['L200', 'L201', 'L202', 'L203'],\n",
       " ['L204', 'L205', 'L206'],\n",
       " ['L207', 'L208'],\n",
       " ['L271', 'L272', 'L273', 'L274', 'L275'],\n",
       " ['L276', 'L277'],\n",
       " ['L280', 'L281'],\n",
       " ['L363', 'L364'],\n",
       " ['L365', 'L366']]"
      ]
     },
     "execution_count": 15,
     "metadata": {},
     "output_type": "execute_result"
    }
   ],
   "source": [
    "lines_list = [re.findall(elem_regex, s) for s in re.findall(list_regex, lines_list)]\n",
    "lines_list[:10]"
   ]
  },
  {
   "cell_type": "code",
   "execution_count": 16,
   "id": "2944f321",
   "metadata": {},
   "outputs": [
    {
     "data": {
      "text/plain": [
       "78120"
      ]
     },
     "execution_count": 16,
     "metadata": {},
     "output_type": "execute_result"
    }
   ],
   "source": [
    "dialogues = [\n",
    "    '\\n'.join(f'{lines[idx][\"speaker\"]}: {lines[idx][\"text\"]}' for idx in indices) \n",
    "    for indices in lines_list if all(idx in lines for idx in indices)  # There are some missing \n",
    "]\n",
    "len(dialogues)"
   ]
  },
  {
   "cell_type": "code",
   "execution_count": 19,
   "id": "dd36ceef",
   "metadata": {},
   "outputs": [
    {
     "name": "stdout",
     "output_type": "stream",
     "text": [
      "BIANCA: Can we make this quick?  Roxanne Korrine and Andrew Barrett are having an incredibly horrendous public break- up on the quad.  Again.\n",
      "CAMERON: Well, I thought we'd start with pronunciation, if that's okay with you.\n",
      "BIANCA: Not the hacking and gagging and spitting part.  Please.\n",
      "CAMERON: Okay... then how 'bout we try out some French cuisine.  Saturday?  Night?\n"
     ]
    }
   ],
   "source": [
    "print(dialogues[0])"
   ]
  },
  {
   "cell_type": "code",
   "execution_count": 20,
   "id": "fab6f4b8",
   "metadata": {},
   "outputs": [
    {
     "name": "stdout",
     "output_type": "stream",
     "text": [
      "ALONSO: I never seen heat like this!  Not even in Las Minas!\n",
      "SAILOR: The water's going putrid in the barrels.\n",
      "ALONSO: You'll be drinking your own piss... For the glory of Spain... and Admiral Colon...!  Bastard!\n"
     ]
    }
   ],
   "source": [
    "print(dialogues[200])"
   ]
  },
  {
   "cell_type": "code",
   "execution_count": null,
   "id": "581a804e",
   "metadata": {},
   "outputs": [],
   "source": []
  },
  {
   "cell_type": "code",
   "execution_count": null,
   "id": "a496a8ab",
   "metadata": {},
   "outputs": [],
   "source": []
  },
  {
   "cell_type": "code",
   "execution_count": null,
   "id": "0672a1bf",
   "metadata": {},
   "outputs": [],
   "source": []
  }
 ],
 "metadata": {
  "kernelspec": {
   "display_name": "Python 3 (ipykernel)",
   "language": "python",
   "name": "python3"
  },
  "language_info": {
   "codemirror_mode": {
    "name": "ipython",
    "version": 3
   },
   "file_extension": ".py",
   "mimetype": "text/x-python",
   "name": "python",
   "nbconvert_exporter": "python",
   "pygments_lexer": "ipython3",
   "version": "3.11.5"
  }
 },
 "nbformat": 4,
 "nbformat_minor": 5
}
