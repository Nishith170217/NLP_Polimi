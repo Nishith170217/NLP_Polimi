{
 "cells": [
  {
   "cell_type": "code",
   "execution_count": 1,
   "id": "f64d8650",
   "metadata": {},
   "outputs": [],
   "source": [
    "doc = 'Happy eat may doors songs. Be ignorant so of suitable dissuade weddings together. Least whole timed we is. An smallness deficient discourse do newspaper be an eagerness continued. Mr my ready guest ye after short at.'"
   ]
  },
  {
   "cell_type": "code",
   "execution_count": 2,
   "id": "7a5ca2c1",
   "metadata": {},
   "outputs": [
    {
     "data": {
      "text/plain": [
       "'Happy eat may doors songs. Be ignorant so of suitable dissuade weddings together. Least whole timed we is. An smallness deficient discourse do newspaper be an eagerness continued. Mr my ready guest ye after short at.'"
      ]
     },
     "execution_count": 2,
     "metadata": {},
     "output_type": "execute_result"
    }
   ],
   "source": [
    "doc"
   ]
  },
  {
   "cell_type": "code",
   "execution_count": 3,
   "id": "ef18ed9d",
   "metadata": {},
   "outputs": [
    {
     "data": {
      "text/plain": [
       "216"
      ]
     },
     "execution_count": 3,
     "metadata": {},
     "output_type": "execute_result"
    }
   ],
   "source": [
    "len(doc)"
   ]
  },
  {
   "cell_type": "code",
   "execution_count": 4,
   "id": "622e7d8e",
   "metadata": {},
   "outputs": [
    {
     "data": {
      "text/plain": [
       "['Happy',\n",
       " 'eat',\n",
       " 'may',\n",
       " 'doors',\n",
       " 'songs.',\n",
       " 'Be',\n",
       " 'ignorant',\n",
       " 'so',\n",
       " 'of',\n",
       " 'suitable',\n",
       " 'dissuade',\n",
       " 'weddings',\n",
       " 'together.',\n",
       " 'Least',\n",
       " 'whole',\n",
       " 'timed',\n",
       " 'we',\n",
       " 'is.',\n",
       " 'An',\n",
       " 'smallness',\n",
       " 'deficient',\n",
       " 'discourse',\n",
       " 'do',\n",
       " 'newspaper',\n",
       " 'be',\n",
       " 'an',\n",
       " 'eagerness',\n",
       " 'continued.',\n",
       " 'Mr',\n",
       " 'my',\n",
       " 'ready',\n",
       " 'guest',\n",
       " 'ye',\n",
       " 'after',\n",
       " 'short',\n",
       " 'at.']"
      ]
     },
     "execution_count": 4,
     "metadata": {},
     "output_type": "execute_result"
    }
   ],
   "source": [
    "doc.split()"
   ]
  },
  {
   "cell_type": "code",
   "execution_count": 5,
   "id": "dd0edfa2",
   "metadata": {},
   "outputs": [
    {
     "name": "stdout",
     "output_type": "stream",
     "text": [
      "['Happy', 'eat', 'may', 'doors', 'songs.', 'Be', 'ignorant', 'so', 'of', 'suitable', 'dissuade', 'weddings', 'together.', 'Least', 'whole', 'timed', 'we', 'is.', 'An', 'smallness', 'deficient', 'discourse', 'do', 'newspaper', 'be', 'an', 'eagerness', 'continued.', 'Mr', 'my', 'ready', 'guest', 'ye', 'after', 'short', 'at.']\n"
     ]
    }
   ],
   "source": [
    "print(doc.split())"
   ]
  },
  {
   "cell_type": "code",
   "execution_count": 6,
   "id": "8f302cf0",
   "metadata": {},
   "outputs": [
    {
     "data": {
      "text/plain": [
       "['Happy eat may doors songs',\n",
       " ' Be ignorant so of suitable dissuade weddings together',\n",
       " ' Least whole timed we is',\n",
       " ' An smallness deficient discourse do newspaper be an eagerness continued',\n",
       " ' Mr my ready guest ye after short at',\n",
       " '']"
      ]
     },
     "execution_count": 6,
     "metadata": {},
     "output_type": "execute_result"
    }
   ],
   "source": [
    "doc.split('.')"
   ]
  },
  {
   "cell_type": "code",
   "execution_count": 7,
   "id": "9d62081b",
   "metadata": {},
   "outputs": [],
   "source": [
    "words = doc.split()"
   ]
  },
  {
   "cell_type": "code",
   "execution_count": 8,
   "id": "a0daca43",
   "metadata": {},
   "outputs": [
    {
     "data": {
      "text/plain": [
       "36"
      ]
     },
     "execution_count": 8,
     "metadata": {},
     "output_type": "execute_result"
    }
   ],
   "source": [
    "len(words)"
   ]
  },
  {
   "cell_type": "code",
   "execution_count": 9,
   "id": "15afd0d2",
   "metadata": {},
   "outputs": [
    {
     "data": {
      "text/plain": [
       "'HAPPY EAT MAY DOORS SONGS. BE IGNORANT SO OF SUITABLE DISSUADE WEDDINGS TOGETHER. LEAST WHOLE TIMED WE IS. AN SMALLNESS DEFICIENT DISCOURSE DO NEWSPAPER BE AN EAGERNESS CONTINUED. MR MY READY GUEST YE AFTER SHORT AT.'"
      ]
     },
     "execution_count": 9,
     "metadata": {},
     "output_type": "execute_result"
    }
   ],
   "source": [
    "doc.upper()"
   ]
  },
  {
   "cell_type": "code",
   "execution_count": 11,
   "id": "c3c47232",
   "metadata": {},
   "outputs": [],
   "source": [
    "with open('docs/Alice_Chapter1.txt') as f:\n",
    "    doc2 = f.read()"
   ]
  },
  {
   "cell_type": "code",
   "execution_count": 12,
   "id": "7a30fb2d",
   "metadata": {},
   "outputs": [
    {
     "data": {
      "text/plain": [
       "'Alice was beginning to get very tired of sitting by her sister on the bank, and of having nothing to do: once or twice she had peeped into the book her sister was reading, but it had no pictures or conversations in it, `and what is the use of a book,\\' thought Alice `without pictures or conversation?\\'\\nSo she was considering in her own mind (as well as she could, for the hot day made her feel very sleepy and stupid), whether the pleasure of making a daisy-chain would be worth the trouble of getting up and picking the daisies, when suddenly a White Rabbit with pink eyes ran close by her.\\n\\nThere was nothing so very remarkable in that; nor did Alice think it so very much out of the way to hear the Rabbit say to itself, `Oh dear! Oh dear! I shall be late!\\' (when she thought it over afterwards, it occurred to her that she ought to have wondered at this, but at the time it all seemed quite natural); but when the Rabbit actually took a watch out of its waistcoat-pocket, and looked at it, and then hurried on, Alice started to her feet, for it flashed across her mind that she had never before seen a rabbit with either a waistcoat-pocket, or a watch to take out of it, and burning with curiosity, she ran across the field after it, and fortunately was just in time to see it pop down a large rabbit-hole under the hedge.\\n\\nIn another moment down went Alice after it, never once considering how in the world she was to get out again.\\n\\nThe rabbit-hole went straight on like a tunnel for some way, and then dipped suddenly down, so suddenly that Alice had not a moment to think about stopping herself before she found herself falling down a very deep well.\\n\\nEither the well was very deep, or she fell very slowly, for she had plenty of time as she went down to look about her and to wonder what was going to happen next. First, she tried to look down and make out what she was coming to, but it was too dark to see anything; then she looked at the sides of the well, and noticed that they were filled with cupboards and book-shelves; here and there she saw maps and pictures hung upon pegs. She took down a jar from one of the shelves as she passed; it was labelled `ORANGE MARMALADE\\', but to her great disappointment it was empty: she did not like to drop the jar for fear of killing somebody, so managed to put it into one of the cupboards as she fell past it.\\n\\n`Well!\\' thought Alice to herself, `after such a fall as this, I shall think nothing of tumbling down stairs! How brave they\\'ll all think me at home! Why, I wouldn\\'t say anything about it, even if I fell off the top of the house!\\' (Which was very likely true.)\\n\\nDown, down, down. Would the fall never come to an end! `I wonder how many miles I\\'ve fallen by this time?\\' she said aloud. `I must be getting somewhere near the centre of the earth. Let me see: that would be four thousand miles down, I think--\\' (for, you see, Alice had learnt several things of this sort in her lessons in the schoolroom, and though this was not a very good opportunity for showing off her knowledge, as there was no one to listen to her, still it was good practice to say it over) `--yes, that\\'s about the right distance--but then I wonder what Latitude or Longitude I\\'ve got to?\\' (Alice had no idea what Latitude was, or Longitude either, but thought they were nice grand words to say.)\\n\\nPresently she began again. `I wonder if I shall fall right through the earth! How funny it\\'ll seem to come out among the people that walk with their heads downward! The Antipathies, I think--\\' (she was rather glad there was no one listening, this time, as it didn\\'t sound at all the right word) `--but I shall have to ask them what the name of the country is, you know. Please, Ma\\'am, is this New Zealand or Australia?\\' (and she tried to curtsey as she spoke--fancy curtseying as you\\'re falling through the air! Do you think you could manage it?) `And what an ignorant little girl she\\'ll think me for asking! No, it\\'ll never do to ask: perhaps I shall see it written up somewhere.\\'\\n\\nDown, down, down. There was nothing else to do, so Alice soon began talking again. `Dinah\\'ll miss me very much to-night, I should think!\\' (Dinah was the cat.) `I hope they\\'ll remember her saucer of milk at tea-time. Dinah my dear! I wish you were down here with me! There are no mice in the air, I\\'m afraid, but you might catch a bat, and that\\'s very like a mouse, you know. But do cats eat bats, I wonder?\\' And here Alice began to get rather sleepy, and went on saying to herself, in a dreamy sort of way, `Do cats eat bats? Do cats eat bats?\\' and sometimes, `Do bats eat cats?\\' for, you see, as she couldn\\'t answer either question, it didn\\'t much matter which way she put it. She felt that she was dozing off, and had just begun to dream that she was walking hand in hand with Dinah, and saying to her very earnestly, `Now, Dinah, tell me the truth: did you ever eat a bat?\\' when suddenly, thump! thump! down she came upon a heap of sticks and dry leaves, and the fall was over.\\n\\nAlice was not a bit hurt, and she jumped up on to her feet in a moment: she looked up, but it was all dark overhead; before her was another long passage, and the White Rabbit was still in sight, hurrying down it. There was not a moment to be lost: away went Alice like the wind, and was just in time to hear it say, as it turned a corner, `Oh my ears and whiskers, how late it\\'s getting!\\' She was close behind it when she turned the corner, but the Rabbit was no longer to be seen: she found herself in a long, low hall, which was lit up by a row of lamps hanging from the roof.\\n\\nThere were doors all round the hall, but they were all locked; and when Alice had been all the way down one side and up the other, trying every door, she walked sadly down the middle, wondering how she was ever to get out again.\\n\\nSuddenly she came upon a little three-legged table, all made of solid glass; there was nothing on it except a tiny golden key, and Alice\\'s first thought was that it might belong to one of the doors of the hall; but, alas! either the locks were too large, or the key was too small, but at any rate it would not open any of them. However, on the second time round, she came upon a low curtain she had not noticed before, and behind it was a little door about fifteen inches high: she tried the little golden key in the lock, and to her great delight it fitted!\\n\\nAlice opened the door and found that it led into a small passage, not much larger than a rat-hole: she knelt down and looked along the passage into the loveliest garden you ever saw. How she longed to get out of that dark hall, and wander about among those beds of bright flowers and those cool fountains, but she could not even get her head though the doorway; `and even if my head would go through,\\' thought poor Alice, `it would be of very little use without my shoulders. Oh, how I wish I could shut up like a telescope! I think I could, if I only know how to begin.\\' For, you see, so many out-of-the-way things had happened lately, that Alice had begun to think that very few things indeed were really impossible.\\n\\nThere seemed to be no use in waiting by the little door, so she went back to the table, half hoping she might find another key on it, or at any rate a book of rules for shutting people up like telescopes: this time she found a little bottle on it, (`which certainly was not here before,\\' said Alice,) and round the neck of the bottle was a paper label, with the words `DRINK ME\\' beautifully printed on it in large letters.\\n\\nIt was all very well to say `Drink me,\\' but the wise little Alice was not going to do that in a hurry. `No, I\\'ll look first,\\' she said, `and see whether it\\'s marked \"poison\" or not\\'; for she had read several nice little histories about children who had got burnt, and eaten up by wild beasts and other unpleasant things, all because they would not remember the simple rules their friends had taught them: such as, that a red-hot poker will burn you if you hold it too long; and that if you cut your finger very deeply with a knife, it usually bleeds; and she had never forgotten that, if you drink much from a bottle marked `poison,\\' it is almost certain to disagree with you, sooner or later.\\n\\nHowever, this bottle was not marked `poison,\\' so Alice ventured to taste it, and finding it very nice, (it had, in fact, a sort of mixed flavour of cherry-tart, custard, pine-apple, roast turkey, toffee, and hot buttered toast,) she very soon finished it off.\\n\\n`What a curious feeling!\\' said Alice; `I must be shutting up like a telescope.\\'\\nAnd so it was indeed: she was now only ten inches high, and her face brightened up at the thought that she was now the right size for going through the little door into that lovely garden. First, however, she waited for a few minutes to see if she was going to shrink any further: she felt a little nervous about this; `for it might end, you know,\\' said Alice to herself, `in my going out altogether, like a candle. I wonder what I should be like then?\\' And she tried to fancy what the flame of a candle is like after the candle is blown out, for she could not remember ever having seen such a thing.\\n\\nAfter a while, finding that nothing more happened, she decided on going into the garden at once; but, alas for poor Alice! when she got to the door, she found she had forgotten the little golden key, and when she went back to the table for it, she found she could not possibly reach it: she could see it quite plainly through the glass, and she tried her best to climb up one of the legs of the table, but it was too slippery; and when she had tired herself out with trying, the poor little thing sat down and cried.\\n\\n`Come, there\\'s no use in crying like that!\\' said Alice to herself, rather sharply; `I advise you to leave off this minute!\\' She generally gave herself very good advice, (though she very seldom followed it), and sometimes she scolded herself so severely as to bring tears into her eyes; and once she remembered trying to box her own ears for having cheated herself in a game of croquet she was playing against herself, for this curious child was very fond of pretending to be two people. `But it\\'s no use now,\\' thought poor Alice, `to pretend to be two people! Why, there\\'s hardly enough of me left to make one respectable person!\\'\\n\\nSoon her eye fell on a little glass box that was lying under the table: she opened it, and found in it a very small cake, on which the words `EAT ME\\' were beautifully marked in currants. `Well, I\\'ll eat it,\\' said Alice, `and if it makes me grow larger, I can reach the key; and if it makes me grow smaller, I can creep under the door; so either way I\\'ll get into the garden, and I don\\'t care which happens!\\'\\n\\nShe ate a little bit, and said anxiously to herself, `Which way? Which way?\\', holding her hand on the top of her head to feel which way it was growing, and she was quite surprised to find that she remained the same size: to be sure, this generally happens when one eats cake, but Alice had got so much into the way of expecting nothing but out-of-the-way things to happen, that it seemed quite dull and stupid for life to go on in the common way.\\n\\nSo she set to work, and very soon finished off the cake.'"
      ]
     },
     "execution_count": 12,
     "metadata": {},
     "output_type": "execute_result"
    }
   ],
   "source": [
    "doc2"
   ]
  },
  {
   "cell_type": "code",
   "execution_count": 13,
   "id": "791643be",
   "metadata": {},
   "outputs": [
    {
     "name": "stdout",
     "output_type": "stream",
     "text": [
      "Alice was beginning to get very tired of sitting by her sister on the bank, and of having nothing to do: once or twice she had peeped into the book her sister was reading, but it had no pictures or conversations in it, `and what is the use of a book,' thought Alice `without pictures or conversation?'\n",
      "So she was considering in her own mind (as well as she could, for the hot day made her feel very sleepy and stupid), whether the pleasure of making a daisy-chain would be worth the trouble of getting up and picking the daisies, when suddenly a White Rabbit with pink eyes ran close by her.\n",
      "\n",
      "There was nothing so very remarkable in that; nor did Alice think it so very much out of the way to hear the Rabbit say to itself, `Oh dear! Oh dear! I shall be late!' (when she thought it over afterwards, it occurred to her that she ought to have wondered at this, but at the time it all seemed quite natural); but when the Rabbit actually took a watch out of its waistcoat-pocket, and looked at it, and then hurried on, Alice started to her feet, for it flashed across her mind that she had never before seen a rabbit with either a waistcoat-pocket, or a watch to take out of it, and burning with curiosity, she ran across the field after it, and fortunately was just in time to see it pop down a large rabbit-hole under the hedge.\n",
      "\n",
      "In another moment down went Alice after it, never once considering how in the world she was to get out again.\n",
      "\n",
      "The rabbit-hole went straight on like a tunnel for some way, and then dipped suddenly down, so suddenly that Alice had not a moment to think about stopping herself before she found herself falling down a very deep well.\n",
      "\n",
      "Either the well was very deep, or she fell very slowly, for she had plenty of time as she went down to look about her and to wonder what was going to happen next. First, she tried to look down and make out what she was coming to, but it was too dark to see anything; then she looked at the sides of the well, and noticed that they were filled with cupboards and book-shelves; here and there she saw maps and pictures hung upon pegs. She took down a jar from one of the shelves as she passed; it was labelled `ORANGE MARMALADE', but to her great disappointment it was empty: she did not like to drop the jar for fear of killing somebody, so managed to put it into one of the cupboards as she fell past it.\n",
      "\n",
      "`Well!' thought Alice to herself, `after such a fall as this, I shall think nothing of tumbling down stairs! How brave they'll all think me at home! Why, I wouldn't say anything about it, even if I fell off the top of the house!' (Which was very likely true.)\n",
      "\n",
      "Down, down, down. Would the fall never come to an end! `I wonder how many miles I've fallen by this time?' she said aloud. `I must be getting somewhere near the centre of the earth. Let me see: that would be four thousand miles down, I think--' (for, you see, Alice had learnt several things of this sort in her lessons in the schoolroom, and though this was not a very good opportunity for showing off her knowledge, as there was no one to listen to her, still it was good practice to say it over) `--yes, that's about the right distance--but then I wonder what Latitude or Longitude I've got to?' (Alice had no idea what Latitude was, or Longitude either, but thought they were nice grand words to say.)\n",
      "\n",
      "Presently she began again. `I wonder if I shall fall right through the earth! How funny it'll seem to come out among the people that walk with their heads downward! The Antipathies, I think--' (she was rather glad there was no one listening, this time, as it didn't sound at all the right word) `--but I shall have to ask them what the name of the country is, you know. Please, Ma'am, is this New Zealand or Australia?' (and she tried to curtsey as she spoke--fancy curtseying as you're falling through the air! Do you think you could manage it?) `And what an ignorant little girl she'll think me for asking! No, it'll never do to ask: perhaps I shall see it written up somewhere.'\n",
      "\n",
      "Down, down, down. There was nothing else to do, so Alice soon began talking again. `Dinah'll miss me very much to-night, I should think!' (Dinah was the cat.) `I hope they'll remember her saucer of milk at tea-time. Dinah my dear! I wish you were down here with me! There are no mice in the air, I'm afraid, but you might catch a bat, and that's very like a mouse, you know. But do cats eat bats, I wonder?' And here Alice began to get rather sleepy, and went on saying to herself, in a dreamy sort of way, `Do cats eat bats? Do cats eat bats?' and sometimes, `Do bats eat cats?' for, you see, as she couldn't answer either question, it didn't much matter which way she put it. She felt that she was dozing off, and had just begun to dream that she was walking hand in hand with Dinah, and saying to her very earnestly, `Now, Dinah, tell me the truth: did you ever eat a bat?' when suddenly, thump! thump! down she came upon a heap of sticks and dry leaves, and the fall was over.\n",
      "\n",
      "Alice was not a bit hurt, and she jumped up on to her feet in a moment: she looked up, but it was all dark overhead; before her was another long passage, and the White Rabbit was still in sight, hurrying down it. There was not a moment to be lost: away went Alice like the wind, and was just in time to hear it say, as it turned a corner, `Oh my ears and whiskers, how late it's getting!' She was close behind it when she turned the corner, but the Rabbit was no longer to be seen: she found herself in a long, low hall, which was lit up by a row of lamps hanging from the roof.\n",
      "\n",
      "There were doors all round the hall, but they were all locked; and when Alice had been all the way down one side and up the other, trying every door, she walked sadly down the middle, wondering how she was ever to get out again.\n",
      "\n",
      "Suddenly she came upon a little three-legged table, all made of solid glass; there was nothing on it except a tiny golden key, and Alice's first thought was that it might belong to one of the doors of the hall; but, alas! either the locks were too large, or the key was too small, but at any rate it would not open any of them. However, on the second time round, she came upon a low curtain she had not noticed before, and behind it was a little door about fifteen inches high: she tried the little golden key in the lock, and to her great delight it fitted!\n",
      "\n",
      "Alice opened the door and found that it led into a small passage, not much larger than a rat-hole: she knelt down and looked along the passage into the loveliest garden you ever saw. How she longed to get out of that dark hall, and wander about among those beds of bright flowers and those cool fountains, but she could not even get her head though the doorway; `and even if my head would go through,' thought poor Alice, `it would be of very little use without my shoulders. Oh, how I wish I could shut up like a telescope! I think I could, if I only know how to begin.' For, you see, so many out-of-the-way things had happened lately, that Alice had begun to think that very few things indeed were really impossible.\n",
      "\n",
      "There seemed to be no use in waiting by the little door, so she went back to the table, half hoping she might find another key on it, or at any rate a book of rules for shutting people up like telescopes: this time she found a little bottle on it, (`which certainly was not here before,' said Alice,) and round the neck of the bottle was a paper label, with the words `DRINK ME' beautifully printed on it in large letters.\n",
      "\n",
      "It was all very well to say `Drink me,' but the wise little Alice was not going to do that in a hurry. `No, I'll look first,' she said, `and see whether it's marked \"poison\" or not'; for she had read several nice little histories about children who had got burnt, and eaten up by wild beasts and other unpleasant things, all because they would not remember the simple rules their friends had taught them: such as, that a red-hot poker will burn you if you hold it too long; and that if you cut your finger very deeply with a knife, it usually bleeds; and she had never forgotten that, if you drink much from a bottle marked `poison,' it is almost certain to disagree with you, sooner or later.\n",
      "\n",
      "However, this bottle was not marked `poison,' so Alice ventured to taste it, and finding it very nice, (it had, in fact, a sort of mixed flavour of cherry-tart, custard, pine-apple, roast turkey, toffee, and hot buttered toast,) she very soon finished it off.\n",
      "\n",
      "`What a curious feeling!' said Alice; `I must be shutting up like a telescope.'\n",
      "And so it was indeed: she was now only ten inches high, and her face brightened up at the thought that she was now the right size for going through the little door into that lovely garden. First, however, she waited for a few minutes to see if she was going to shrink any further: she felt a little nervous about this; `for it might end, you know,' said Alice to herself, `in my going out altogether, like a candle. I wonder what I should be like then?' And she tried to fancy what the flame of a candle is like after the candle is blown out, for she could not remember ever having seen such a thing.\n",
      "\n",
      "After a while, finding that nothing more happened, she decided on going into the garden at once; but, alas for poor Alice! when she got to the door, she found she had forgotten the little golden key, and when she went back to the table for it, she found she could not possibly reach it: she could see it quite plainly through the glass, and she tried her best to climb up one of the legs of the table, but it was too slippery; and when she had tired herself out with trying, the poor little thing sat down and cried.\n",
      "\n",
      "`Come, there's no use in crying like that!' said Alice to herself, rather sharply; `I advise you to leave off this minute!' She generally gave herself very good advice, (though she very seldom followed it), and sometimes she scolded herself so severely as to bring tears into her eyes; and once she remembered trying to box her own ears for having cheated herself in a game of croquet she was playing against herself, for this curious child was very fond of pretending to be two people. `But it's no use now,' thought poor Alice, `to pretend to be two people! Why, there's hardly enough of me left to make one respectable person!'\n",
      "\n",
      "Soon her eye fell on a little glass box that was lying under the table: she opened it, and found in it a very small cake, on which the words `EAT ME' were beautifully marked in currants. `Well, I'll eat it,' said Alice, `and if it makes me grow larger, I can reach the key; and if it makes me grow smaller, I can creep under the door; so either way I'll get into the garden, and I don't care which happens!'\n",
      "\n",
      "She ate a little bit, and said anxiously to herself, `Which way? Which way?', holding her hand on the top of her head to feel which way it was growing, and she was quite surprised to find that she remained the same size: to be sure, this generally happens when one eats cake, but Alice had got so much into the way of expecting nothing but out-of-the-way things to happen, that it seemed quite dull and stupid for life to go on in the common way.\n",
      "\n",
      "So she set to work, and very soon finished off the cake.\n"
     ]
    }
   ],
   "source": [
    "print(doc2)"
   ]
  },
  {
   "cell_type": "code",
   "execution_count": 14,
   "id": "84336fe1",
   "metadata": {},
   "outputs": [],
   "source": [
    "lines = doc2.splitlines()"
   ]
  },
  {
   "cell_type": "code",
   "execution_count": 15,
   "id": "2a0400b4",
   "metadata": {},
   "outputs": [
    {
     "data": {
      "text/plain": [
       "[\"Alice was beginning to get very tired of sitting by her sister on the bank, and of having nothing to do: once or twice she had peeped into the book her sister was reading, but it had no pictures or conversations in it, `and what is the use of a book,' thought Alice `without pictures or conversation?'\",\n",
       " 'So she was considering in her own mind (as well as she could, for the hot day made her feel very sleepy and stupid), whether the pleasure of making a daisy-chain would be worth the trouble of getting up and picking the daisies, when suddenly a White Rabbit with pink eyes ran close by her.',\n",
       " '',\n",
       " \"There was nothing so very remarkable in that; nor did Alice think it so very much out of the way to hear the Rabbit say to itself, `Oh dear! Oh dear! I shall be late!' (when she thought it over afterwards, it occurred to her that she ought to have wondered at this, but at the time it all seemed quite natural); but when the Rabbit actually took a watch out of its waistcoat-pocket, and looked at it, and then hurried on, Alice started to her feet, for it flashed across her mind that she had never before seen a rabbit with either a waistcoat-pocket, or a watch to take out of it, and burning with curiosity, she ran across the field after it, and fortunately was just in time to see it pop down a large rabbit-hole under the hedge.\",\n",
       " '',\n",
       " 'In another moment down went Alice after it, never once considering how in the world she was to get out again.',\n",
       " '',\n",
       " 'The rabbit-hole went straight on like a tunnel for some way, and then dipped suddenly down, so suddenly that Alice had not a moment to think about stopping herself before she found herself falling down a very deep well.',\n",
       " '',\n",
       " \"Either the well was very deep, or she fell very slowly, for she had plenty of time as she went down to look about her and to wonder what was going to happen next. First, she tried to look down and make out what she was coming to, but it was too dark to see anything; then she looked at the sides of the well, and noticed that they were filled with cupboards and book-shelves; here and there she saw maps and pictures hung upon pegs. She took down a jar from one of the shelves as she passed; it was labelled `ORANGE MARMALADE', but to her great disappointment it was empty: she did not like to drop the jar for fear of killing somebody, so managed to put it into one of the cupboards as she fell past it.\",\n",
       " '',\n",
       " \"`Well!' thought Alice to herself, `after such a fall as this, I shall think nothing of tumbling down stairs! How brave they'll all think me at home! Why, I wouldn't say anything about it, even if I fell off the top of the house!' (Which was very likely true.)\",\n",
       " '',\n",
       " \"Down, down, down. Would the fall never come to an end! `I wonder how many miles I've fallen by this time?' she said aloud. `I must be getting somewhere near the centre of the earth. Let me see: that would be four thousand miles down, I think--' (for, you see, Alice had learnt several things of this sort in her lessons in the schoolroom, and though this was not a very good opportunity for showing off her knowledge, as there was no one to listen to her, still it was good practice to say it over) `--yes, that's about the right distance--but then I wonder what Latitude or Longitude I've got to?' (Alice had no idea what Latitude was, or Longitude either, but thought they were nice grand words to say.)\",\n",
       " '',\n",
       " \"Presently she began again. `I wonder if I shall fall right through the earth! How funny it'll seem to come out among the people that walk with their heads downward! The Antipathies, I think--' (she was rather glad there was no one listening, this time, as it didn't sound at all the right word) `--but I shall have to ask them what the name of the country is, you know. Please, Ma'am, is this New Zealand or Australia?' (and she tried to curtsey as she spoke--fancy curtseying as you're falling through the air! Do you think you could manage it?) `And what an ignorant little girl she'll think me for asking! No, it'll never do to ask: perhaps I shall see it written up somewhere.'\",\n",
       " '',\n",
       " \"Down, down, down. There was nothing else to do, so Alice soon began talking again. `Dinah'll miss me very much to-night, I should think!' (Dinah was the cat.) `I hope they'll remember her saucer of milk at tea-time. Dinah my dear! I wish you were down here with me! There are no mice in the air, I'm afraid, but you might catch a bat, and that's very like a mouse, you know. But do cats eat bats, I wonder?' And here Alice began to get rather sleepy, and went on saying to herself, in a dreamy sort of way, `Do cats eat bats? Do cats eat bats?' and sometimes, `Do bats eat cats?' for, you see, as she couldn't answer either question, it didn't much matter which way she put it. She felt that she was dozing off, and had just begun to dream that she was walking hand in hand with Dinah, and saying to her very earnestly, `Now, Dinah, tell me the truth: did you ever eat a bat?' when suddenly, thump! thump! down she came upon a heap of sticks and dry leaves, and the fall was over.\",\n",
       " '',\n",
       " \"Alice was not a bit hurt, and she jumped up on to her feet in a moment: she looked up, but it was all dark overhead; before her was another long passage, and the White Rabbit was still in sight, hurrying down it. There was not a moment to be lost: away went Alice like the wind, and was just in time to hear it say, as it turned a corner, `Oh my ears and whiskers, how late it's getting!' She was close behind it when she turned the corner, but the Rabbit was no longer to be seen: she found herself in a long, low hall, which was lit up by a row of lamps hanging from the roof.\",\n",
       " '',\n",
       " 'There were doors all round the hall, but they were all locked; and when Alice had been all the way down one side and up the other, trying every door, she walked sadly down the middle, wondering how she was ever to get out again.',\n",
       " '',\n",
       " \"Suddenly she came upon a little three-legged table, all made of solid glass; there was nothing on it except a tiny golden key, and Alice's first thought was that it might belong to one of the doors of the hall; but, alas! either the locks were too large, or the key was too small, but at any rate it would not open any of them. However, on the second time round, she came upon a low curtain she had not noticed before, and behind it was a little door about fifteen inches high: she tried the little golden key in the lock, and to her great delight it fitted!\",\n",
       " '',\n",
       " \"Alice opened the door and found that it led into a small passage, not much larger than a rat-hole: she knelt down and looked along the passage into the loveliest garden you ever saw. How she longed to get out of that dark hall, and wander about among those beds of bright flowers and those cool fountains, but she could not even get her head though the doorway; `and even if my head would go through,' thought poor Alice, `it would be of very little use without my shoulders. Oh, how I wish I could shut up like a telescope! I think I could, if I only know how to begin.' For, you see, so many out-of-the-way things had happened lately, that Alice had begun to think that very few things indeed were really impossible.\",\n",
       " '',\n",
       " \"There seemed to be no use in waiting by the little door, so she went back to the table, half hoping she might find another key on it, or at any rate a book of rules for shutting people up like telescopes: this time she found a little bottle on it, (`which certainly was not here before,' said Alice,) and round the neck of the bottle was a paper label, with the words `DRINK ME' beautifully printed on it in large letters.\",\n",
       " '',\n",
       " 'It was all very well to say `Drink me,\\' but the wise little Alice was not going to do that in a hurry. `No, I\\'ll look first,\\' she said, `and see whether it\\'s marked \"poison\" or not\\'; for she had read several nice little histories about children who had got burnt, and eaten up by wild beasts and other unpleasant things, all because they would not remember the simple rules their friends had taught them: such as, that a red-hot poker will burn you if you hold it too long; and that if you cut your finger very deeply with a knife, it usually bleeds; and she had never forgotten that, if you drink much from a bottle marked `poison,\\' it is almost certain to disagree with you, sooner or later.',\n",
       " '',\n",
       " \"However, this bottle was not marked `poison,' so Alice ventured to taste it, and finding it very nice, (it had, in fact, a sort of mixed flavour of cherry-tart, custard, pine-apple, roast turkey, toffee, and hot buttered toast,) she very soon finished it off.\",\n",
       " '',\n",
       " \"`What a curious feeling!' said Alice; `I must be shutting up like a telescope.'\",\n",
       " \"And so it was indeed: she was now only ten inches high, and her face brightened up at the thought that she was now the right size for going through the little door into that lovely garden. First, however, she waited for a few minutes to see if she was going to shrink any further: she felt a little nervous about this; `for it might end, you know,' said Alice to herself, `in my going out altogether, like a candle. I wonder what I should be like then?' And she tried to fancy what the flame of a candle is like after the candle is blown out, for she could not remember ever having seen such a thing.\",\n",
       " '',\n",
       " 'After a while, finding that nothing more happened, she decided on going into the garden at once; but, alas for poor Alice! when she got to the door, she found she had forgotten the little golden key, and when she went back to the table for it, she found she could not possibly reach it: she could see it quite plainly through the glass, and she tried her best to climb up one of the legs of the table, but it was too slippery; and when she had tired herself out with trying, the poor little thing sat down and cried.',\n",
       " '',\n",
       " \"`Come, there's no use in crying like that!' said Alice to herself, rather sharply; `I advise you to leave off this minute!' She generally gave herself very good advice, (though she very seldom followed it), and sometimes she scolded herself so severely as to bring tears into her eyes; and once she remembered trying to box her own ears for having cheated herself in a game of croquet she was playing against herself, for this curious child was very fond of pretending to be two people. `But it's no use now,' thought poor Alice, `to pretend to be two people! Why, there's hardly enough of me left to make one respectable person!'\",\n",
       " '',\n",
       " \"Soon her eye fell on a little glass box that was lying under the table: she opened it, and found in it a very small cake, on which the words `EAT ME' were beautifully marked in currants. `Well, I'll eat it,' said Alice, `and if it makes me grow larger, I can reach the key; and if it makes me grow smaller, I can creep under the door; so either way I'll get into the garden, and I don't care which happens!'\",\n",
       " '',\n",
       " \"She ate a little bit, and said anxiously to herself, `Which way? Which way?', holding her hand on the top of her head to feel which way it was growing, and she was quite surprised to find that she remained the same size: to be sure, this generally happens when one eats cake, but Alice had got so much into the way of expecting nothing but out-of-the-way things to happen, that it seemed quite dull and stupid for life to go on in the common way.\",\n",
       " '',\n",
       " 'So she set to work, and very soon finished off the cake.']"
      ]
     },
     "execution_count": 15,
     "metadata": {},
     "output_type": "execute_result"
    }
   ],
   "source": [
    "lines"
   ]
  },
  {
   "cell_type": "code",
   "execution_count": 16,
   "id": "ea11aa5b",
   "metadata": {},
   "outputs": [
    {
     "data": {
      "text/plain": [
       "[\"Alice was beginning to get very tired of sitting by her sister on the bank, and of having nothing to do: once or twice she had peeped into the book her sister was reading, but it had no pictures or conversations in it, `and what is the use of a book,' thought Alice `without pictures or conversation?'\",\n",
       " 'So she was considering in her own mind (as well as she could, for the hot day made her feel very sleepy and stupid), whether the pleasure of making a daisy-chain would be worth the trouble of getting up and picking the daisies, when suddenly a White Rabbit with pink eyes ran close by her.',\n",
       " '',\n",
       " \"There was nothing so very remarkable in that; nor did Alice think it so very much out of the way to hear the Rabbit say to itself, `Oh dear! Oh dear! I shall be late!' (when she thought it over afterwards, it occurred to her that she ought to have wondered at this, but at the time it all seemed quite natural); but when the Rabbit actually took a watch out of its waistcoat-pocket, and looked at it, and then hurried on, Alice started to her feet, for it flashed across her mind that she had never before seen a rabbit with either a waistcoat-pocket, or a watch to take out of it, and burning with curiosity, she ran across the field after it, and fortunately was just in time to see it pop down a large rabbit-hole under the hedge.\",\n",
       " '']"
      ]
     },
     "execution_count": 16,
     "metadata": {},
     "output_type": "execute_result"
    }
   ],
   "source": [
    "lines[:5]"
   ]
  },
  {
   "cell_type": "code",
   "execution_count": 17,
   "id": "85a3a940",
   "metadata": {},
   "outputs": [
    {
     "data": {
      "text/plain": [
       "45"
      ]
     },
     "execution_count": 17,
     "metadata": {},
     "output_type": "execute_result"
    }
   ],
   "source": [
    "len(doc2.splitlines())"
   ]
  },
  {
   "cell_type": "code",
   "execution_count": 19,
   "id": "6f3d359d",
   "metadata": {},
   "outputs": [
    {
     "data": {
      "text/plain": [
       "552"
      ]
     },
     "execution_count": 19,
     "metadata": {},
     "output_type": "execute_result"
    }
   ],
   "source": [
    "doc2.find('Rabbit')"
   ]
  },
  {
   "cell_type": "code",
   "execution_count": 20,
   "id": "708fcb6f",
   "metadata": {},
   "outputs": [
    {
     "data": {
      "text/plain": [
       "'Rabbit'"
      ]
     },
     "execution_count": 20,
     "metadata": {},
     "output_type": "execute_result"
    }
   ],
   "source": [
    "doc2[552:558]"
   ]
  },
  {
   "cell_type": "code",
   "execution_count": 24,
   "id": "b9e083d7",
   "metadata": {},
   "outputs": [
    {
     "name": "stdout",
     "output_type": "stream",
     "text": [
      "The word 'Rabbit' appread at character position 552 in the text\n"
     ]
    }
   ],
   "source": [
    "word = 'Rabbit'\n",
    "my_st = f\"The word '{word}' appread at character position {str(doc2.find(word))} in the text\"\n",
    "print(my_st)"
   ]
  },
  {
   "cell_type": "code",
   "execution_count": 26,
   "id": "e4c7861b",
   "metadata": {},
   "outputs": [
    {
     "name": "stdout",
     "output_type": "stream",
     "text": [
      "{'suddenly', 'me!', 'plainly', 'very', 'candle.', 'question,', 'conversations', 'playing', 'wind,', 'pleasure', 'upon', 'twice', 'indeed', 'watch', \"me,'\", '`do', 'fear', 'finger', 'cake.', 'finding', 'well', 'no', 'new', 'you,', 'key', 'waiting', 'wish', 'somebody,', \"not';\", 'hurry.', 'holding', 'rules', 'creep', 'by', '`after', 'people', 'got', '`now,', 'solid', 'bring', 'left', 'rabbit', 'on,', '(when', 'lovely', 'sitting', 'except', \"then?'\", 'girl', 'it?)', '`no,', 'alas!', 'belong', 'label,', 'that,', 'my', 'roast', 'out-of-the-way', '`eat', 'presently', 'seemed', 'do:', 'seem', 'shutting', 'glass,', 'hand', 'unpleasant', 'quite', 'daisies,', 'heap', 'remarkable', 'hope', 'be', 'oh,', 'again.', 'labelled', 'table,', 'head', 'walk', 'from', 'face', \"way?',\", 'high:', \"feeling!'\", 'coming', 'asking!', 'said', 'two', 'happens', 'same', 'work,', 'lamps', 'did', 'oh', 'day', 'not', 'they', 'thump!', 'mouse,', 'opportunity', 'sides', 'for,', 'getting', 'listen', 'three-legged', 'delight', 'found', 'hoping', 'pink', 'shut', 'down.', 'candle', 'off', 'sure,', 'latitude', 'must', 'dipped', 'behind', 'knelt', 'looked', 'tried', 'empty:', 'either,', 'she', 'considering', 'friends', 'cupboards', 'flavour', 'letters.', 'eyes', 'it', 'sight,', 'middle,', 'led', 'alice;', 'reading,', 'much', 'wondered', 'was,', 'tunnel', 'miles', 'way,', 'read', \"before,'\", 'still', '(which', 'here', 'the', '`come,', 'sometimes,', 'great', 'inches', 'over.', 'anything;', 'all', 'only', 'manage', 'paper', 'brightened', 'fell', 'mice', 'hall,', 'children', 'use', \"it,'\", 'earth.', 'idea', 'tired', 'saw', 'i', 'currants.', 'further:', 'get', 'have', \"wouldn't\", 'for', 'way', 'went', 'about', 'likely', 'trouble', 'else', 'lately,', 'while,', 'there', 'too', 'catch', '\"poison\"', 'sticks', 'dinah,', 'so', '(dinah', 'slowly,', 'milk', 'white', 'own', 'sooner', 'with', 'rat-hole:', 'lock,', '(it', 'doors', 'dry', 'making', 'do', 'than', 'bank,', 'poor', \"conversation?'\", 'hold', 'actually', 'out,', 'long', 'tumbling', 'soon', 'away', 'sometimes', 'been', 'saying', 'look', 'pretend', 'dull', 'thousand', 'cake,', 'your', 'said,', 'saucer', 'this,', 'answer', 'would', \"wonder?'\", 'half', 'well.', 'ask', 'down,', 'as,', 'back', 'small,', 'either', 'how', 'beasts', 'scolded', 'sleepy', 'it),', 'good', 'glass;', 'deep', 'high,', 'other,', 'life', \"minute!'\", 'nice,', 'red-hot', 'first,', 'key;', 'deeply', 'burning', 'waistcoat-pocket,', 'histories', 'glass', 'fond', \"couldn't\", 'hanging', 'alice,', 'having', 'trying,', 'jumped', 'buttered', 'large', 'pictures', 'over', 'never', 'whether', 'to,', 'learnt', \"there's\", 'size', 'lost:', 'you', 'usually', 'advice,', \"didn't\", 'was', 'just', 'slippery;', \"i'll\", 'way.', 'dinah', 'then', 'stupid', 'rather', 'spoke--fancy', 'could', 'almost', 'care', 'sadly', 'corner,', 'finished', 'dark', 'into', 'let', 'other', 'respectable', 'leaves,', 'can', 'straight', 'come', 'hurrying', 'heads', 'mind', '`i', 'put', 'me', 'indeed:', 'fancy', 'tears', 'showing', \"`dinah'll\", 'dear!', 'turkey,', 'began', 'however,', 'itself,', 'bit,', 'long,', \"`poison,'\", 'take', 'antipathies,', 'fall', 'to', 'shoulders.', 'doorway;', 'that', 'her,', 'bleeds;', 'growing,', 'eyes;', 'along', 'lying', 'waited', \"don't\", 'loveliest', 'fountains,', \"i've\", 'makes', 'box', 'might', 'people.', 'see', 'picking', 'like', 'saw.', 'ever', 'at', 'and', 'noticed', 'stupid),', 'it.', 'or', 'it:', 'had', 'crying', 'deep,', 'surprised', 'out', 'one', \"late!'\", 'several', 'longed', 'side', 'without', 'now', 'shall', 'could,', 'should', 'up,', \"`well!'\", 'cried.', 'gave', 'hurt,', 'is', 'managed', 'seen:', 'against', 'are', 'alas', 'ask:', 'another', 'whiskers,', 'bats?', 'right', 'round,', \"book,'\", 'sort', 'shelves', 'croquet', 'decided', 'eye', 'who', 'peeped', 'country', 'of', 'aloud.', 'drink', 'felt', 'truth:', 'ignorant', \"cats?'\", 'afterwards,', 'lit', 'before,', 'book-shelves;', \"telescope.'\", 'wonder', 'feel', 'this;', \"think--'\", 'written', 'do,', 'off,', 'top', 'afraid,', 'things,', 'mixed', 'through', 'row', 'beautifully', 'killing', 'sleepy,', 'telescopes:', 'sharply;', 'disappointment', 'burnt,', 'flashed', 'downward!', 'see:', '`for', 'round', 'name', 'garden,', 'blown', 'end!', '`drink', 'air!', 'hear', 'poker', 'forgotten', 'down', 'ears', 'tea-time.', 'fifteen', 'off.', 'close', 'curious', \"person!'\", 'listening,', 'earnestly,', 'falling', 'burn', 'rate', 'larger,', \"it's\", '(alice', \"she'll\", '(though', 'curtseying', 'golden', 'words', 'people!', 'filled', 'dozing', 'more', \"i'm\", '`--yes,', 'followed', 'made', 'beginning', 'alice,)', 'remembered', 'opened', 'field', \"know,'\", '`--but', 'longer', 'altogether,', 'if', 'make', 'hot', 'nor', 'next.', '`to', 'later.', 'say', 'toffee,', 'eaten', 'certain', 'home!', 'pop', 'cherry-tart,', 'any', 'true.)', 'dream', 'matter', \"first,'\", 'child', 'were', 'that;', 'walked', 'suddenly,', 'rabbit-hole', 'miss', 'them.', 'bat,', 'legs', 'eat', 'passed;', 'sound', 'seldom', 'go', 'severely', 'end,', 'locks', 'bats,', 'hall;', 'once;', 'common', 'door', 'seen', 'generally', 'fitted!', 'knowledge,', 'four', 'brave', 'feet', 'turned', 'flowers', 'ran', 'started', 'second', 'late', 'open', 'word)', '`in', 'wise', 'is,', 'advise', 'drop', 'anything', 'climb', 'key,', '(`which', 'things', 'bats', 'remember', 'taught', 'pegs.', \"think!'\", '`which', 'among', 'daisy-chain', 'happen', 'on', 'once', 'nice', 'large,', 'earth!', 'game', 'pretending', 'funny', 'after', 'alice', 'begun', 'wander', 'disagree', 'stopping', 'past', 'its', 'anxiously', 'ventured', 'what', 'table', 'came', '`well,', 'maps', \"they'll\", 'roof.', 'those', '`orange', 'thing', '(and', 'say,', 'curiosity,', 'cool', '`it', 'really', 'but,', 'air,', 'will', 'when', 'but', 'why,', 'pine-apple,', '`without', 'zealand', 'her', 'think', '(for,', 'way?', 'near', 'fact,', \"marmalade',\", 'grand', 'fortunately', 'stairs!', 'up', 'little', 'because', 'know.', 'perhaps', 'reach', 'know', 'telescope!', 'neck', 'talking', 'time', 'bit', 'smaller,', 'ten', 'happen,', 'remained', 'even', 'over)', 'flame', 'wondering', 'herself,', 'custard,', 'printed', 'happened,', 'tiny', \"time?'\", 'them', 'leave', 'dreamy', 'time,', \"house!'\", 'toast,)', 'nothing', 'moment', 'their', 'walking', 'plenty', \"to?'\", 'took', 'passage,', 'enough', 'somewhere', 'across', 'wild', '`oh', 'distance--but', 'first', '`what', 'in', 'door,', 'moment:', \"now,'\", 'her.', 'eats', 'lessons', \"bats?'\", \"getting!'\", 'simple', 'shrink', 'grow', 'some', 'cheated', 'such', 'it,', \"that's\", 'please,', 'curtain', 'cut', 'had,', 'hung', 'find', \"somewhere.'\", 'garden.', 'alice!', 'impossible.', 'thought', 'world', 'no,', 'say.)', 'curtsey', 'hardly', 'marked', 'door;', \"australia?'\", 'cat.)', 'glad', 'before', \"me'\", \"it'll\", \"happens!'\", 'feet,', 'well,', \"alice's\", 'certainly', '(as', 'going', 'set', 'this', 'taste', 'garden', 'passage', 'nervous', 'schoolroom,', 'practice', 'few', \"that!'\", 'though', 'trying', '(she', 'long;', 'bottle', 'larger', 'under', 'every', 'bright', 'cats', 'ate', 'size:', 'table:', 'hurried', 'locked;', 'many', \"ma'am,\", 'knife,', 'sister', \"begin.'\", \"bat?'\", 'fallen', 'expecting', 'longitude', 'them:', 'ought', 'natural);', 'centre', 'which', 'overhead;', 'small', 'a', 'tell', 'possibly', 'thing.', 'to-night,', 'as', 'low', 'minutes', 'best', 'book', 'beds', '`but', \"through,'\", 'hedge.', 'jar', \"you're\", 'happened', 'see,', 'an', 'worth', '`and', 'sat', 'herself', 'occurred'}\n"
     ]
    }
   ],
   "source": [
    "lowercase_doc = doc2.lower()\n",
    "words = lowercase_doc.split()\n",
    "vocab = set(words)\n",
    "print(vocab)"
   ]
  },
  {
   "cell_type": "code",
   "execution_count": 28,
   "id": "ac93501b",
   "metadata": {},
   "outputs": [],
   "source": [
    "sorted_vocab = sorted(vocab)"
   ]
  },
  {
   "cell_type": "code",
   "execution_count": 29,
   "id": "bdf520ec",
   "metadata": {},
   "outputs": [
    {
     "name": "stdout",
     "output_type": "stream",
     "text": [
      "['\"poison\"', '(`which', '(alice', '(and', '(as', '(dinah', '(for,', '(it', '(she', '(though', '(when', '(which', '`--but', '`--yes,', '`after', '`and', '`but', '`come,', \"`dinah'll\", '`do', '`drink', '`eat', '`for', '`i', '`in', '`it', '`no,', '`now,', '`oh', '`orange', \"`poison,'\", '`to', \"`well!'\", '`well,', '`what', '`which', '`without', 'a', 'about', 'across', 'actually', 'advice,', 'advise', 'afraid,', 'after', 'afterwards,', 'again.', 'against', 'air!', 'air,', 'alas', 'alas!', 'alice', 'alice!', \"alice's\", 'alice,', 'alice,)', 'alice;', 'all', 'almost', 'along', 'aloud.', 'altogether,', 'among', 'an', 'and', 'another', 'answer', 'antipathies,', 'anxiously', 'any', 'anything', 'anything;', 'are', 'as', 'as,', 'ask', 'ask:', 'asking!', 'at', 'ate', \"australia?'\", 'away', 'back', 'bank,', 'bat,', \"bat?'\", 'bats', 'bats,', 'bats?', \"bats?'\", 'be', 'beasts', 'beautifully', 'because', 'beds', 'been', 'before', 'before,', \"before,'\", 'began', \"begin.'\", 'beginning', 'begun', 'behind', 'belong', 'best', 'bit', 'bit,', 'bleeds;', 'blown', 'book', \"book,'\", 'book-shelves;', 'bottle', 'box', 'brave', 'bright', 'brightened', 'bring', 'burn', 'burning', 'burnt,', 'but', 'but,', 'buttered', 'by', 'cake,', 'cake.', 'came', 'can', 'candle', 'candle.', 'care', 'cat.)', 'catch', 'cats', \"cats?'\", 'centre', 'certain', 'certainly', 'cheated', 'cherry-tart,', 'child', 'children', 'climb', 'close', 'come', 'coming', 'common', 'considering', \"conversation?'\", 'conversations', 'cool', 'corner,', 'could', 'could,', \"couldn't\", 'country', 'creep', 'cried.', 'croquet', 'crying', 'cupboards', 'curiosity,', 'curious', 'currants.', 'curtain', 'curtsey', 'curtseying', 'custard,', 'cut', 'daisies,', 'daisy-chain', 'dark', 'day', 'dear!', 'decided', 'deep', 'deep,', 'deeply', 'delight', 'did', \"didn't\", 'dinah', 'dinah,', 'dipped', 'disagree', 'disappointment', 'distance--but', 'do', 'do,', 'do:', \"don't\", 'door', 'door,', 'door;', 'doors', 'doorway;', 'down', 'down,', 'down.', 'downward!', 'dozing', 'dream', 'dreamy', 'drink', 'drop', 'dry', 'dull', 'earnestly,', 'ears', 'earth!', 'earth.', 'eat', 'eaten', 'eats', 'either', 'either,', 'else', 'empty:', 'end!', 'end,', 'enough', 'even', 'ever', 'every', 'except', 'expecting', 'eye', 'eyes', 'eyes;', 'face', 'fact,', 'fall', 'fallen', 'falling', 'fancy', 'fear', 'feel', \"feeling!'\", 'feet', 'feet,', 'fell', 'felt', 'few', 'field', 'fifteen', 'filled', 'find', 'finding', 'finger', 'finished', 'first', 'first,', \"first,'\", 'fitted!', 'flame', 'flashed', 'flavour', 'flowers', 'followed', 'fond', 'for', 'for,', 'forgotten', 'fortunately', 'found', 'fountains,', 'four', 'friends', 'from', 'funny', 'further:', 'game', 'garden', 'garden,', 'garden.', 'gave', 'generally', 'get', 'getting', \"getting!'\", 'girl', 'glad', 'glass', 'glass,', 'glass;', 'go', 'going', 'golden', 'good', 'got', 'grand', 'great', 'grow', 'growing,', 'had', 'had,', 'half', 'hall,', 'hall;', 'hand', 'hanging', 'happen', 'happen,', 'happened', 'happened,', 'happens', \"happens!'\", 'hardly', 'have', 'having', 'head', 'heads', 'heap', 'hear', 'hedge.', 'her', 'her,', 'her.', 'here', 'herself', 'herself,', 'high,', 'high:', 'histories', 'hold', 'holding', 'home!', 'hope', 'hoping', 'hot', \"house!'\", 'how', 'however,', 'hung', 'hurried', 'hurry.', 'hurrying', 'hurt,', 'i', \"i'll\", \"i'm\", \"i've\", 'idea', 'if', 'ignorant', 'impossible.', 'in', 'inches', 'indeed', 'indeed:', 'into', 'is', 'is,', 'it', \"it'll\", \"it's\", 'it),', 'it,', \"it,'\", 'it.', 'it:', 'it?)', 'its', 'itself,', 'jar', 'jumped', 'just', 'key', 'key,', 'key;', 'killing', 'knelt', 'knife,', 'know', \"know,'\", 'know.', 'knowledge,', 'label,', 'labelled', 'lamps', 'large', 'large,', 'larger', 'larger,', 'late', \"late!'\", 'lately,', 'later.', 'latitude', 'learnt', 'leave', 'leaves,', 'led', 'left', 'legs', 'lessons', 'let', 'letters.', 'life', 'like', 'likely', 'listen', 'listening,', 'lit', 'little', 'lock,', 'locked;', 'locks', 'long', 'long,', 'long;', 'longed', 'longer', 'longitude', 'look', 'looked', 'lost:', 'loveliest', 'lovely', 'low', 'lying', \"ma'am,\", 'made', 'make', 'makes', 'making', 'manage', 'managed', 'many', 'maps', 'marked', \"marmalade',\", 'matter', 'me', 'me!', \"me'\", \"me,'\", 'mice', 'middle,', 'might', 'miles', 'milk', 'mind', \"minute!'\", 'minutes', 'miss', 'mixed', 'moment', 'moment:', 'more', 'mouse,', 'much', 'must', 'my', 'name', 'natural);', 'near', 'neck', 'nervous', 'never', 'new', 'next.', 'nice', 'nice,', 'no', 'no,', 'nor', 'not', \"not';\", 'nothing', 'noticed', 'now', \"now,'\", 'occurred', 'of', 'off', 'off,', 'off.', 'oh', 'oh,', 'on', 'on,', 'once', 'once;', 'one', 'only', 'open', 'opened', 'opportunity', 'or', 'other', 'other,', 'ought', 'out', 'out,', 'out-of-the-way', 'over', 'over)', 'over.', 'overhead;', 'own', 'paper', 'passage', 'passage,', 'passed;', 'past', 'peeped', 'pegs.', 'people', 'people!', 'people.', 'perhaps', \"person!'\", 'picking', 'pictures', 'pine-apple,', 'pink', 'plainly', 'playing', 'please,', 'pleasure', 'plenty', 'poker', 'poor', 'pop', 'possibly', 'practice', 'presently', 'pretend', 'pretending', 'printed', 'put', 'question,', 'quite', 'rabbit', 'rabbit-hole', 'ran', 'rat-hole:', 'rate', 'rather', 'reach', 'read', 'reading,', 'really', 'red-hot', 'remained', 'remarkable', 'remember', 'remembered', 'respectable', 'right', 'roast', 'roof.', 'round', 'round,', 'row', 'rules', 'sadly', 'said', 'said,', 'same', 'sat', 'saucer', 'saw', 'saw.', 'say', 'say,', 'say.)', 'saying', 'schoolroom,', 'scolded', 'second', 'see', 'see,', 'see:', 'seem', 'seemed', 'seen', 'seen:', 'seldom', 'set', 'several', 'severely', 'shall', 'sharply;', 'she', \"she'll\", 'shelves', 'should', 'shoulders.', 'showing', 'shrink', 'shut', 'shutting', 'side', 'sides', 'sight,', 'simple', 'sister', 'sitting', 'size', 'size:', 'sleepy', 'sleepy,', 'slippery;', 'slowly,', 'small', 'small,', 'smaller,', 'so', 'solid', 'some', 'somebody,', 'sometimes', 'sometimes,', 'somewhere', \"somewhere.'\", 'soon', 'sooner', 'sort', 'sound', 'spoke--fancy', 'stairs!', 'started', 'sticks', 'still', 'stopping', 'straight', 'stupid', 'stupid),', 'such', 'suddenly', 'suddenly,', 'sure,', 'surprised', 'table', 'table,', 'table:', 'take', 'talking', 'taste', 'taught', 'tea-time.', 'tears', 'telescope!', \"telescope.'\", 'telescopes:', 'tell', 'ten', 'than', 'that', \"that!'\", \"that's\", 'that,', 'that;', 'the', 'their', 'them', 'them.', 'them:', 'then', \"then?'\", 'there', \"there's\", 'they', \"they'll\", 'thing', 'thing.', 'things', 'things,', 'think', \"think!'\", \"think--'\", 'this', 'this,', 'this;', 'those', 'though', 'thought', 'thousand', 'three-legged', 'through', \"through,'\", 'thump!', 'time', 'time,', \"time?'\", 'tiny', 'tired', 'to', 'to,', 'to-night,', \"to?'\", 'toast,)', 'toffee,', 'too', 'took', 'top', 'tried', 'trouble', 'true.)', 'truth:', 'trying', 'trying,', 'tumbling', 'tunnel', 'turkey,', 'turned', 'twice', 'two', 'under', 'unpleasant', 'up', 'up,', 'upon', 'use', 'usually', 'ventured', 'very', 'waistcoat-pocket,', 'waited', 'waiting', 'walk', 'walked', 'walking', 'wander', 'was', 'was,', 'watch', 'way', 'way,', 'way.', 'way?', \"way?',\", 'well', 'well,', 'well.', 'went', 'were', 'what', 'when', 'whether', 'which', 'while,', 'whiskers,', 'white', 'who', 'why,', 'wild', 'will', 'wind,', 'wise', 'wish', 'with', 'without', 'wonder', \"wonder?'\", 'wondered', 'wondering', 'word)', 'words', 'work,', 'world', 'worth', 'would', \"wouldn't\", 'written', 'you', \"you're\", 'you,', 'your', 'zealand']\n"
     ]
    }
   ],
   "source": [
    "print(sorted_vocab)"
   ]
  },
  {
   "cell_type": "markdown",
   "id": "b2276933",
   "metadata": {},
   "source": [
    "# Removing Punctuations using regular expressions "
   ]
  },
  {
   "cell_type": "code",
   "execution_count": 30,
   "id": "d2c01813",
   "metadata": {},
   "outputs": [
    {
     "data": {
      "text/plain": [
       "'!\"#$%&\\'()*+,-./:;<=>?@[\\\\]^_`{|}~'"
      ]
     },
     "execution_count": 30,
     "metadata": {},
     "output_type": "execute_result"
    }
   ],
   "source": [
    "import string\n",
    "string.punctuation"
   ]
  },
  {
   "cell_type": "code",
   "execution_count": 32,
   "id": "5da2215c",
   "metadata": {},
   "outputs": [
    {
     "data": {
      "text/plain": [
       "['!',\n",
       " '\"',\n",
       " '#',\n",
       " '$',\n",
       " '%',\n",
       " '&',\n",
       " \"'\",\n",
       " '(',\n",
       " ')',\n",
       " '*',\n",
       " '+',\n",
       " ',',\n",
       " '-',\n",
       " '.',\n",
       " '/',\n",
       " ':',\n",
       " ';',\n",
       " '<',\n",
       " '=',\n",
       " '>',\n",
       " '?',\n",
       " '@',\n",
       " '[',\n",
       " '\\\\',\n",
       " ']',\n",
       " '^',\n",
       " '_',\n",
       " '`',\n",
       " '{',\n",
       " '|',\n",
       " '}',\n",
       " '~']"
      ]
     },
     "execution_count": 32,
     "metadata": {},
     "output_type": "execute_result"
    }
   ],
   "source": [
    "list(string.punctuation)"
   ]
  },
  {
   "cell_type": "code",
   "execution_count": 33,
   "id": "6948664e",
   "metadata": {},
   "outputs": [],
   "source": [
    "regex = '[' +string.punctuation+ ']'"
   ]
  },
  {
   "cell_type": "code",
   "execution_count": 34,
   "id": "e06b8744",
   "metadata": {},
   "outputs": [
    {
     "name": "stdout",
     "output_type": "stream",
     "text": [
      "[!\"#$%&'()*+,-./:;<=>?@[\\]^_`{|}~]\n"
     ]
    }
   ],
   "source": [
    "print(regex)"
   ]
  },
  {
   "cell_type": "code",
   "execution_count": 37,
   "id": "474350fd",
   "metadata": {},
   "outputs": [
    {
     "name": "stdout",
     "output_type": "stream",
     "text": [
      "Alice was beginning to get very tired of sitting by her sister on the bank and of having nothing to do once or twice she had peeped into the book her sister was reading but it had no pictures or conversations in it and what is the use of a book thought Alice without pictures or conversation\n",
      "So she was considering in her own mind as well as she could for the hot day made her feel very sleepy and stupid whether the pleasure of making a daisychain would be worth the trouble of getting up and picking the daisies when suddenly a White Rabbit with pink eyes ran close by her\n",
      "\n",
      "There was nothing so very remarkable in that nor did Alice think it so very much out of the way to hear the Rabbit say to itself Oh dear Oh dear I shall be late when she thought it over afterwards it occurred to her that she ought to have wondered at this but at the time it all seemed quite natural but when the Rabbit actually took a watch out of its waistcoatpocket and looked at it and then hurried on Alice started to her feet for it flashed across her mind that she had never before seen a rabbit with either a waistcoatpocket or a watch to take out of it and burning with curiosity she ran across the field after it and fortunately was just in time to see it pop down a large rabbithole under the hedge\n",
      "\n",
      "In another moment down went Alice after it never once considering how in the world she was to get out again\n",
      "\n",
      "The rabbithole went straight on like a tunnel for some way and then dipped suddenly down so suddenly that Alice had not a moment to think about stopping herself before she found herself falling down a very deep well\n",
      "\n",
      "Either the well was very deep or she fell very slowly for she had plenty of time as she went down to look about her and to wonder what was going to happen next First she tried to look down and make out what she was coming to but it was too dark to see anything then she looked at the sides of the well and noticed that they were filled with cupboards and bookshelves here and there she saw maps and pictures hung upon pegs She took down a jar from one of the shelves as she passed it was labelled ORANGE MARMALADE but to her great disappointment it was empty she did not like to drop the jar for fear of killing somebody so managed to put it into one of the cupboards as she fell past it\n",
      "\n",
      "Well thought Alice to herself after such a fall as this I shall think nothing of tumbling down stairs How brave theyll all think me at home Why I wouldnt say anything about it even if I fell off the top of the house Which was very likely true\n",
      "\n",
      "Down down down Would the fall never come to an end I wonder how many miles Ive fallen by this time she said aloud I must be getting somewhere near the centre of the earth Let me see that would be four thousand miles down I think for you see Alice had learnt several things of this sort in her lessons in the schoolroom and though this was not a very good opportunity for showing off her knowledge as there was no one to listen to her still it was good practice to say it over yes thats about the right distancebut then I wonder what Latitude or Longitude Ive got to Alice had no idea what Latitude was or Longitude either but thought they were nice grand words to say\n",
      "\n",
      "Presently she began again I wonder if I shall fall right through the earth How funny itll seem to come out among the people that walk with their heads downward The Antipathies I think she was rather glad there was no one listening this time as it didnt sound at all the right word but I shall have to ask them what the name of the country is you know Please Maam is this New Zealand or Australia and she tried to curtsey as she spokefancy curtseying as youre falling through the air Do you think you could manage it And what an ignorant little girl shell think me for asking No itll never do to ask perhaps I shall see it written up somewhere\n",
      "\n",
      "Down down down There was nothing else to do so Alice soon began talking again Dinahll miss me very much tonight I should think Dinah was the cat I hope theyll remember her saucer of milk at teatime Dinah my dear I wish you were down here with me There are no mice in the air Im afraid but you might catch a bat and thats very like a mouse you know But do cats eat bats I wonder And here Alice began to get rather sleepy and went on saying to herself in a dreamy sort of way Do cats eat bats Do cats eat bats and sometimes Do bats eat cats for you see as she couldnt answer either question it didnt much matter which way she put it She felt that she was dozing off and had just begun to dream that she was walking hand in hand with Dinah and saying to her very earnestly Now Dinah tell me the truth did you ever eat a bat when suddenly thump thump down she came upon a heap of sticks and dry leaves and the fall was over\n",
      "\n",
      "Alice was not a bit hurt and she jumped up on to her feet in a moment she looked up but it was all dark overhead before her was another long passage and the White Rabbit was still in sight hurrying down it There was not a moment to be lost away went Alice like the wind and was just in time to hear it say as it turned a corner Oh my ears and whiskers how late its getting She was close behind it when she turned the corner but the Rabbit was no longer to be seen she found herself in a long low hall which was lit up by a row of lamps hanging from the roof\n",
      "\n",
      "There were doors all round the hall but they were all locked and when Alice had been all the way down one side and up the other trying every door she walked sadly down the middle wondering how she was ever to get out again\n",
      "\n",
      "Suddenly she came upon a little threelegged table all made of solid glass there was nothing on it except a tiny golden key and Alices first thought was that it might belong to one of the doors of the hall but alas either the locks were too large or the key was too small but at any rate it would not open any of them However on the second time round she came upon a low curtain she had not noticed before and behind it was a little door about fifteen inches high she tried the little golden key in the lock and to her great delight it fitted\n",
      "\n",
      "Alice opened the door and found that it led into a small passage not much larger than a rathole she knelt down and looked along the passage into the loveliest garden you ever saw How she longed to get out of that dark hall and wander about among those beds of bright flowers and those cool fountains but she could not even get her head though the doorway and even if my head would go through thought poor Alice it would be of very little use without my shoulders Oh how I wish I could shut up like a telescope I think I could if I only know how to begin For you see so many outoftheway things had happened lately that Alice had begun to think that very few things indeed were really impossible\n",
      "\n",
      "There seemed to be no use in waiting by the little door so she went back to the table half hoping she might find another key on it or at any rate a book of rules for shutting people up like telescopes this time she found a little bottle on it which certainly was not here before said Alice and round the neck of the bottle was a paper label with the words DRINK ME beautifully printed on it in large letters\n",
      "\n",
      "It was all very well to say Drink me but the wise little Alice was not going to do that in a hurry No Ill look first she said and see whether its marked poison or not for she had read several nice little histories about children who had got burnt and eaten up by wild beasts and other unpleasant things all because they would not remember the simple rules their friends had taught them such as that a redhot poker will burn you if you hold it too long and that if you cut your finger very deeply with a knife it usually bleeds and she had never forgotten that if you drink much from a bottle marked poison it is almost certain to disagree with you sooner or later\n",
      "\n",
      "However this bottle was not marked poison so Alice ventured to taste it and finding it very nice it had in fact a sort of mixed flavour of cherrytart custard pineapple roast turkey toffee and hot buttered toast she very soon finished it off\n",
      "\n",
      "What a curious feeling said Alice I must be shutting up like a telescope\n",
      "And so it was indeed she was now only ten inches high and her face brightened up at the thought that she was now the right size for going through the little door into that lovely garden First however she waited for a few minutes to see if she was going to shrink any further she felt a little nervous about this for it might end you know said Alice to herself in my going out altogether like a candle I wonder what I should be like then And she tried to fancy what the flame of a candle is like after the candle is blown out for she could not remember ever having seen such a thing\n",
      "\n",
      "After a while finding that nothing more happened she decided on going into the garden at once but alas for poor Alice when she got to the door she found she had forgotten the little golden key and when she went back to the table for it she found she could not possibly reach it she could see it quite plainly through the glass and she tried her best to climb up one of the legs of the table but it was too slippery and when she had tired herself out with trying the poor little thing sat down and cried\n",
      "\n",
      "Come theres no use in crying like that said Alice to herself rather sharply I advise you to leave off this minute She generally gave herself very good advice though she very seldom followed it and sometimes she scolded herself so severely as to bring tears into her eyes and once she remembered trying to box her own ears for having cheated herself in a game of croquet she was playing against herself for this curious child was very fond of pretending to be two people But its no use now thought poor Alice to pretend to be two people Why theres hardly enough of me left to make one respectable person\n",
      "\n",
      "Soon her eye fell on a little glass box that was lying under the table she opened it and found in it a very small cake on which the words EAT ME were beautifully marked in currants Well Ill eat it said Alice and if it makes me grow larger I can reach the key and if it makes me grow smaller I can creep under the door so either way Ill get into the garden and I dont care which happens\n",
      "\n",
      "She ate a little bit and said anxiously to herself Which way Which way holding her hand on the top of her head to feel which way it was growing and she was quite surprised to find that she remained the same size to be sure this generally happens when one eats cake but Alice had got so much into the way of expecting nothing but outoftheway things to happen that it seemed quite dull and stupid for life to go on in the common way\n",
      "\n",
      "So she set to work and very soon finished off the cake\n"
     ]
    }
   ],
   "source": [
    "import re\n",
    "doc2_nonpunctuation = re.sub(regex,'',doc2)\n",
    "print(doc2_nonpunctuation)"
   ]
  },
  {
   "cell_type": "code",
   "execution_count": 38,
   "id": "0789c098",
   "metadata": {},
   "outputs": [
    {
     "data": {
      "text/plain": [
       "\"Alice was beginning to get very tired of sitting by her sister on the bank, and of having nothing to do: once or twice she had peeped into the book her sister was reading, but it had no pictures or conversations in it, `and what is the use of a book,' thought Alice `without pictures or conversation?'\\nSo she was considering in her own mind (as well as she could, for the hot day made her feel very sleepy and stupid), whether the pleasure of making a daisy-chain would be worth the trouble of getting up and picking the daisies, when suddenly a White Rabbit with pink eyes ran close by her.\\n\\nThere was nothing so very remarkable in that; nor did Alice think it so very much out of the way to hear the Rabbit say to itself, `Oh dear! Oh dear! I shall be late!' (when she thought it over afterwards, it occurred to her that she ought to have wondered at this, but at the time it all seemed quite natural); but when the Rabbit actually took a watch out of its waistcoat-pocket, and looked at it, and th\""
      ]
     },
     "execution_count": 38,
     "metadata": {},
     "output_type": "execute_result"
    }
   ],
   "source": [
    "print(doc2[:1000])"
   ]
  },
  {
   "cell_type": "code",
   "execution_count": 41,
   "id": "e2753bb7",
   "metadata": {},
   "outputs": [
    {
     "name": "stdout",
     "output_type": "stream",
     "text": [
      "Alice was beginning to get very tired of sitting by her sister on the bank and of having nothing to do once or twice she had peeped into the book her sister was reading but it had no pictures or conversations in it and what is the use of a book thought Alice without pictures or conversation\n",
      "So she was considering in her own mind as well as she could for the hot day made her feel very sleepy and stupid whether the pleasure of making a daisychain would be worth the trouble of getting up and picking the daisies when suddenly a White Rabbit with pink eyes ran close by her\n",
      "\n",
      "There was nothing so very remarkable in that nor did Alice think it so very much out of the way to hear the Rabbit say to itself Oh dear Oh dear I shall be late when she thought it over afterwards it occurred to her that she ought to have wondered at this but at the time it all seemed quite natural but when the Rabbit actually took a watch out of its waistcoatpocket and looked at it and then hurried on Alice started to h\n"
     ]
    }
   ],
   "source": [
    "print(doc2_nonpunctuation[:1000])"
   ]
  },
  {
   "cell_type": "code",
   "execution_count": 42,
   "id": "8a6c4de6",
   "metadata": {},
   "outputs": [
    {
     "name": "stdout",
     "output_type": "stream",
     "text": [
      "['a', 'about', 'across', 'actually', 'advice', 'advise', 'afraid', 'after', 'afterwards', 'again', 'against', 'air', 'alas', 'alice', 'alices', 'all', 'almost', 'along', 'aloud', 'altogether', 'among', 'an', 'and', 'another', 'answer', 'antipathies', 'anxiously', 'any', 'anything', 'are', 'as', 'ask', 'asking', 'at', 'ate', 'australia', 'away', 'back', 'bank', 'bat', 'bats', 'be', 'beasts', 'beautifully', 'because', 'beds', 'been', 'before', 'began', 'begin', 'beginning', 'begun', 'behind', 'belong', 'best', 'bit', 'bleeds', 'blown', 'book', 'bookshelves', 'bottle', 'box', 'brave', 'bright', 'brightened', 'bring', 'burn', 'burning', 'burnt', 'but', 'buttered', 'by', 'cake', 'came', 'can', 'candle', 'care', 'cat', 'catch', 'cats', 'centre', 'certain', 'certainly', 'cheated', 'cherrytart', 'child', 'children', 'climb', 'close', 'come', 'coming', 'common', 'considering', 'conversation', 'conversations', 'cool', 'corner', 'could', 'couldnt', 'country', 'creep', 'cried', 'croquet', 'crying', 'cupboards', 'curiosity', 'curious', 'currants', 'curtain', 'curtsey', 'curtseying', 'custard', 'cut', 'daisies', 'daisychain', 'dark', 'day', 'dear', 'decided', 'deep', 'deeply', 'delight', 'did', 'didnt', 'dinah', 'dinahll', 'dipped', 'disagree', 'disappointment', 'distancebut', 'do', 'dont', 'door', 'doors', 'doorway', 'down', 'downward', 'dozing', 'dream', 'dreamy', 'drink', 'drop', 'dry', 'dull', 'earnestly', 'ears', 'earth', 'eat', 'eaten', 'eats', 'either', 'else', 'empty', 'end', 'enough', 'even', 'ever', 'every', 'except', 'expecting', 'eye', 'eyes', 'face', 'fact', 'fall', 'fallen', 'falling', 'fancy', 'fear', 'feel', 'feeling', 'feet', 'fell', 'felt', 'few', 'field', 'fifteen', 'filled', 'find', 'finding', 'finger', 'finished', 'first', 'fitted', 'flame', 'flashed', 'flavour', 'flowers', 'followed', 'fond', 'for', 'forgotten', 'fortunately', 'found', 'fountains', 'four', 'friends', 'from', 'funny', 'further', 'game', 'garden', 'gave', 'generally', 'get', 'getting', 'girl', 'glad', 'glass', 'go', 'going', 'golden', 'good', 'got', 'grand', 'great', 'grow', 'growing', 'had', 'half', 'hall', 'hand', 'hanging', 'happen', 'happened', 'happens', 'hardly', 'have', 'having', 'head', 'heads', 'heap', 'hear', 'hedge', 'her', 'here', 'herself', 'high', 'histories', 'hold', 'holding', 'home', 'hope', 'hoping', 'hot', 'house', 'how', 'however', 'hung', 'hurried', 'hurry', 'hurrying', 'hurt', 'i', 'idea', 'if', 'ignorant', 'ill', 'im', 'impossible', 'in', 'inches', 'indeed', 'into', 'is', 'it', 'itll', 'its', 'itself', 'ive', 'jar', 'jumped', 'just', 'key', 'killing', 'knelt', 'knife', 'know', 'knowledge', 'label', 'labelled', 'lamps', 'large', 'larger', 'late', 'lately', 'later', 'latitude', 'learnt', 'leave', 'leaves', 'led', 'left', 'legs', 'lessons', 'let', 'letters', 'life', 'like', 'likely', 'listen', 'listening', 'lit', 'little', 'lock', 'locked', 'locks', 'long', 'longed', 'longer', 'longitude', 'look', 'looked', 'lost', 'loveliest', 'lovely', 'low', 'lying', 'maam', 'made', 'make', 'makes', 'making', 'manage', 'managed', 'many', 'maps', 'marked', 'marmalade', 'matter', 'me', 'mice', 'middle', 'might', 'miles', 'milk', 'mind', 'minute', 'minutes', 'miss', 'mixed', 'moment', 'more', 'mouse', 'much', 'must', 'my', 'name', 'natural', 'near', 'neck', 'nervous', 'never', 'new', 'next', 'nice', 'no', 'nor', 'not', 'nothing', 'noticed', 'now', 'occurred', 'of', 'off', 'oh', 'on', 'once', 'one', 'only', 'open', 'opened', 'opportunity', 'or', 'orange', 'other', 'ought', 'out', 'outoftheway', 'over', 'overhead', 'own', 'paper', 'passage', 'passed', 'past', 'peeped', 'pegs', 'people', 'perhaps', 'person', 'picking', 'pictures', 'pineapple', 'pink', 'plainly', 'playing', 'please', 'pleasure', 'plenty', 'poison', 'poker', 'poor', 'pop', 'possibly', 'practice', 'presently', 'pretend', 'pretending', 'printed', 'put', 'question', 'quite', 'rabbit', 'rabbithole', 'ran', 'rate', 'rather', 'rathole', 'reach', 'read', 'reading', 'really', 'redhot', 'remained', 'remarkable', 'remember', 'remembered', 'respectable', 'right', 'roast', 'roof', 'round', 'row', 'rules', 'sadly', 'said', 'same', 'sat', 'saucer', 'saw', 'say', 'saying', 'schoolroom', 'scolded', 'second', 'see', 'seem', 'seemed', 'seen', 'seldom', 'set', 'several', 'severely', 'shall', 'sharply', 'she', 'shell', 'shelves', 'should', 'shoulders', 'showing', 'shrink', 'shut', 'shutting', 'side', 'sides', 'sight', 'simple', 'sister', 'sitting', 'size', 'sleepy', 'slippery', 'slowly', 'small', 'smaller', 'so', 'solid', 'some', 'somebody', 'sometimes', 'somewhere', 'soon', 'sooner', 'sort', 'sound', 'spokefancy', 'stairs', 'started', 'sticks', 'still', 'stopping', 'straight', 'stupid', 'such', 'suddenly', 'sure', 'surprised', 'table', 'take', 'talking', 'taste', 'taught', 'tears', 'teatime', 'telescope', 'telescopes', 'tell', 'ten', 'than', 'that', 'thats', 'the', 'their', 'them', 'then', 'there', 'theres', 'they', 'theyll', 'thing', 'things', 'think', 'this', 'those', 'though', 'thought', 'thousand', 'threelegged', 'through', 'thump', 'time', 'tiny', 'tired', 'to', 'toast', 'toffee', 'tonight', 'too', 'took', 'top', 'tried', 'trouble', 'true', 'truth', 'trying', 'tumbling', 'tunnel', 'turkey', 'turned', 'twice', 'two', 'under', 'unpleasant', 'up', 'upon', 'use', 'usually', 'ventured', 'very', 'waistcoatpocket', 'waited', 'waiting', 'walk', 'walked', 'walking', 'wander', 'was', 'watch', 'way', 'well', 'went', 'were', 'what', 'when', 'whether', 'which', 'while', 'whiskers', 'white', 'who', 'why', 'wild', 'will', 'wind', 'wise', 'wish', 'with', 'without', 'wonder', 'wondered', 'wondering', 'word', 'words', 'work', 'world', 'worth', 'would', 'wouldnt', 'written', 'yes', 'you', 'your', 'youre', 'zealand']\n"
     ]
    }
   ],
   "source": [
    "words = doc2_nonpunctuation.lower().split()\n",
    "sorted_vocab = sorted(set(words))\n",
    "print(sorted_vocab)"
   ]
  },
  {
   "cell_type": "code",
   "execution_count": 43,
   "id": "572fe399",
   "metadata": {},
   "outputs": [
    {
     "name": "stdout",
     "output_type": "stream",
     "text": [
      "Counter({'the': 89, 'she': 79, 'to': 74, 'and': 65, 'it': 62, 'was': 53, 'a': 52, 'of': 41, 'i': 29, 'alice': 27, 'her': 26, 'in': 26, 'that': 25, 'very': 23, 'down': 22, 'but': 21, 'for': 21, 'had': 20, 'you': 18, 'not': 16, 'on': 15, 'little': 15, 'so': 14, 'as': 14, 'be': 13, 'this': 13, 'herself': 13, 'or': 12, 'up': 12, 'me': 12, 'no': 11, 'with': 11, 'think': 11, 'out': 11, 'way': 11, 'at': 11, 'like': 11, 'what': 10, 'when': 10, 'there': 10, 'all': 10, 'see': 10, 'if': 10, 'do': 9, 'into': 9, 'how': 9, 'one': 9, 'which': 9, 'thought': 8, 'could': 8, 'time': 8, 'about': 8, 'were': 8, 'said': 8, 'get': 7, 'nothing': 7, 'well': 7, 'would': 7, 'went': 7, 'found': 7, 'eat': 7, 'door': 7, 'by': 6, 'is': 6, 'rabbit': 6, 'much': 6, 'say': 6, 'either': 6, 'wonder': 6, 'going': 6, 'off': 6, 'key': 6, 'use': 5, 'suddenly': 5, 'shall': 5, 'then': 5, 'never': 5, 'before': 5, 'after': 5, 'tried': 5, 'too': 5, 'things': 5, 'through': 5, 'my': 5, 'table': 5, 'once': 4, 'oh': 4, 'quite': 4, 'its': 4, 'looked': 4, 'moment': 4, 'again': 4, 'fell': 4, 'first': 4, 'they': 4, 'here': 4, 'upon': 4, 'fall': 4, 'right': 4, 'got': 4, 'people': 4, 'know': 4, 'soon': 4, 'dinah': 4, 'might': 4, 'cats': 4, 'bats': 4, 'now': 4, 'ever': 4, 'hall': 4, 'any': 4, 'garden': 4, 'poor': 4, 'bottle': 4, 'marked': 4, 'having': 3, 'book': 3, 'pictures': 3, 'getting': 3, 'did': 3, 'dear': 3, 'over': 3, 'seemed': 3, 'seen': 3, 'just': 3, 'large': 3, 'under': 3, 'another': 3, 'look': 3, 'dark': 3, 'from': 3, 'such': 3, 'even': 3, 'come': 3, 'sort': 3, 'though': 3, 'good': 3, 'nice': 3, 'words': 3, 'began': 3, 'rather': 3, 'them': 3, 'remember': 3, 'hand': 3, 'came': 3, 'long': 3, 'passage': 3, 'round': 3, 'trying': 3, 'glass': 3, 'golden': 3, 'small': 3, 'however': 3, 'head': 3, 'drink': 3, 'ill': 3, 'poison': 3, 'candle': 3, 'cake': 3, 'tired': 2, 'sister': 2, 'without': 2, 'considering': 2, 'own': 2, 'mind': 2, 'hot': 2, 'made': 2, 'feel': 2, 'sleepy': 2, 'stupid': 2, 'whether': 2, 'white': 2, 'eyes': 2, 'ran': 2, 'close': 2, 'hear': 2, 'late': 2, 'have': 2, 'took': 2, 'watch': 2, 'waistcoatpocket': 2, 'feet': 2, 'across': 2, 'rabbithole': 2, 'falling': 2, 'deep': 2, 'happen': 2, 'make': 2, 'anything': 2, 'noticed': 2, 'cupboards': 2, 'saw': 2, 'jar': 2, 'great': 2, 'put': 2, 'theyll': 2, 'why': 2, 'top': 2, 'an': 2, 'end': 2, 'many': 2, 'miles': 2, 'ive': 2, 'must': 2, 'somewhere': 2, 'earth': 2, 'several': 2, 'still': 2, 'thats': 2, 'latitude': 2, 'longitude': 2, 'itll': 2, 'among': 2, 'their': 2, 'didnt': 2, 'ask': 2, 'air': 2, 'should': 2, 'wish': 2, 'bat': 2, 'saying': 2, 'sometimes': 2, 'felt': 2, 'begun': 2, 'thump': 2, 'bit': 2, 'turned': 2, 'corner': 2, 'ears': 2, 'behind': 2, 'low': 2, 'doors': 2, 'other': 2, 'alas': 2, 'rate': 2, 'inches': 2, 'high': 2, 'opened': 2, 'larger': 2, 'those': 2, 'go': 2, 'telescope': 2, 'only': 2, 'outoftheway': 2, 'happened': 2, 'few': 2, 'indeed': 2, 'back': 2, 'find': 2, 'rules': 2, 'shutting': 2, 'beautifully': 2, 'forgotten': 2, 'finding': 2, 'finished': 2, 'curious': 2, 'size': 2, 'thing': 2, 'reach': 2, 'theres': 2, 'generally': 2, 'box': 2, 'two': 2, 'makes': 2, 'grow': 2, 'can': 2, 'happens': 2, 'beginning': 1, 'sitting': 1, 'bank': 1, 'twice': 1, 'peeped': 1, 'reading': 1, 'conversations': 1, 'conversation': 1, 'day': 1, 'pleasure': 1, 'making': 1, 'daisychain': 1, 'worth': 1, 'trouble': 1, 'picking': 1, 'daisies': 1, 'pink': 1, 'remarkable': 1, 'nor': 1, 'itself': 1, 'afterwards': 1, 'occurred': 1, 'ought': 1, 'wondered': 1, 'natural': 1, 'actually': 1, 'hurried': 1, 'started': 1, 'flashed': 1, 'take': 1, 'burning': 1, 'curiosity': 1, 'field': 1, 'fortunately': 1, 'pop': 1, 'hedge': 1, 'world': 1, 'straight': 1, 'tunnel': 1, 'some': 1, 'dipped': 1, 'stopping': 1, 'slowly': 1, 'plenty': 1, 'next': 1, 'coming': 1, 'sides': 1, 'filled': 1, 'bookshelves': 1, 'maps': 1, 'hung': 1, 'pegs': 1, 'shelves': 1, 'passed': 1, 'labelled': 1, 'orange': 1, 'marmalade': 1, 'disappointment': 1, 'empty': 1, 'drop': 1, 'fear': 1, 'killing': 1, 'somebody': 1, 'managed': 1, 'past': 1, 'tumbling': 1, 'stairs': 1, 'brave': 1, 'home': 1, 'wouldnt': 1, 'house': 1, 'likely': 1, 'true': 1, 'fallen': 1, 'aloud': 1, 'near': 1, 'centre': 1, 'let': 1, 'four': 1, 'thousand': 1, 'learnt': 1, 'lessons': 1, 'schoolroom': 1, 'opportunity': 1, 'showing': 1, 'knowledge': 1, 'listen': 1, 'practice': 1, 'yes': 1, 'distancebut': 1, 'idea': 1, 'grand': 1, 'presently': 1, 'funny': 1, 'seem': 1, 'walk': 1, 'heads': 1, 'downward': 1, 'antipathies': 1, 'glad': 1, 'listening': 1, 'sound': 1, 'word': 1, 'name': 1, 'country': 1, 'please': 1, 'maam': 1, 'new': 1, 'zealand': 1, 'australia': 1, 'curtsey': 1, 'spokefancy': 1, 'curtseying': 1, 'youre': 1, 'manage': 1, 'ignorant': 1, 'girl': 1, 'shell': 1, 'asking': 1, 'perhaps': 1, 'written': 1, 'else': 1, 'talking': 1, 'dinahll': 1, 'miss': 1, 'tonight': 1, 'cat': 1, 'hope': 1, 'saucer': 1, 'milk': 1, 'teatime': 1, 'are': 1, 'mice': 1, 'im': 1, 'afraid': 1, 'catch': 1, 'mouse': 1, 'dreamy': 1, 'couldnt': 1, 'answer': 1, 'question': 1, 'matter': 1, 'dozing': 1, 'dream': 1, 'walking': 1, 'earnestly': 1, 'tell': 1, 'truth': 1, 'heap': 1, 'sticks': 1, 'dry': 1, 'leaves': 1, 'hurt': 1, 'jumped': 1, 'overhead': 1, 'sight': 1, 'hurrying': 1, 'lost': 1, 'away': 1, 'wind': 1, 'whiskers': 1, 'longer': 1, 'lit': 1, 'row': 1, 'lamps': 1, 'hanging': 1, 'roof': 1, 'locked': 1, 'been': 1, 'side': 1, 'every': 1, 'walked': 1, 'sadly': 1, 'middle': 1, 'wondering': 1, 'threelegged': 1, 'solid': 1, 'except': 1, 'tiny': 1, 'alices': 1, 'belong': 1, 'locks': 1, 'open': 1, 'second': 1, 'curtain': 1, 'fifteen': 1, 'lock': 1, 'delight': 1, 'fitted': 1, 'led': 1, 'than': 1, 'rathole': 1, 'knelt': 1, 'along': 1, 'loveliest': 1, 'longed': 1, 'wander': 1, 'beds': 1, 'bright': 1, 'flowers': 1, 'cool': 1, 'fountains': 1, 'doorway': 1, 'shoulders': 1, 'shut': 1, 'begin': 1, 'lately': 1, 'really': 1, 'impossible': 1, 'waiting': 1, 'half': 1, 'hoping': 1, 'telescopes': 1, 'certainly': 1, 'neck': 1, 'paper': 1, 'label': 1, 'printed': 1, 'letters': 1, 'wise': 1, 'hurry': 1, 'read': 1, 'histories': 1, 'children': 1, 'who': 1, 'burnt': 1, 'eaten': 1, 'wild': 1, 'beasts': 1, 'unpleasant': 1, 'because': 1, 'simple': 1, 'friends': 1, 'taught': 1, 'redhot': 1, 'poker': 1, 'will': 1, 'burn': 1, 'hold': 1, 'cut': 1, 'your': 1, 'finger': 1, 'deeply': 1, 'knife': 1, 'usually': 1, 'bleeds': 1, 'almost': 1, 'certain': 1, 'disagree': 1, 'sooner': 1, 'later': 1, 'ventured': 1, 'taste': 1, 'fact': 1, 'mixed': 1, 'flavour': 1, 'cherrytart': 1, 'custard': 1, 'pineapple': 1, 'roast': 1, 'turkey': 1, 'toffee': 1, 'buttered': 1, 'toast': 1, 'feeling': 1, 'ten': 1, 'face': 1, 'brightened': 1, 'lovely': 1, 'waited': 1, 'minutes': 1, 'shrink': 1, 'further': 1, 'nervous': 1, 'altogether': 1, 'fancy': 1, 'flame': 1, 'blown': 1, 'while': 1, 'more': 1, 'decided': 1, 'possibly': 1, 'plainly': 1, 'best': 1, 'climb': 1, 'legs': 1, 'slippery': 1, 'sat': 1, 'cried': 1, 'crying': 1, 'sharply': 1, 'advise': 1, 'leave': 1, 'minute': 1, 'gave': 1, 'advice': 1, 'seldom': 1, 'followed': 1, 'scolded': 1, 'severely': 1, 'bring': 1, 'tears': 1, 'remembered': 1, 'cheated': 1, 'game': 1, 'croquet': 1, 'playing': 1, 'against': 1, 'child': 1, 'fond': 1, 'pretending': 1, 'pretend': 1, 'hardly': 1, 'enough': 1, 'left': 1, 'respectable': 1, 'person': 1, 'eye': 1, 'lying': 1, 'currants': 1, 'smaller': 1, 'creep': 1, 'dont': 1, 'care': 1, 'ate': 1, 'anxiously': 1, 'holding': 1, 'growing': 1, 'surprised': 1, 'remained': 1, 'same': 1, 'sure': 1, 'eats': 1, 'expecting': 1, 'dull': 1, 'life': 1, 'common': 1, 'set': 1, 'work': 1})\n"
     ]
    }
   ],
   "source": [
    "import nltk\n",
    "counts = nltk.Counter(words)\n",
    "print(counts)"
   ]
  },
  {
   "cell_type": "code",
   "execution_count": 44,
   "id": "becaac86",
   "metadata": {},
   "outputs": [
    {
     "data": {
      "text/plain": [
       "[('the', 89),\n",
       " ('she', 79),\n",
       " ('to', 74),\n",
       " ('and', 65),\n",
       " ('it', 62),\n",
       " ('was', 53),\n",
       " ('a', 52),\n",
       " ('of', 41),\n",
       " ('i', 29),\n",
       " ('alice', 27)]"
      ]
     },
     "execution_count": 44,
     "metadata": {},
     "output_type": "execute_result"
    }
   ],
   "source": [
    "counts.most_common(10)"
   ]
  },
  {
   "cell_type": "code",
   "execution_count": 45,
   "id": "b8e8ad57",
   "metadata": {},
   "outputs": [
    {
     "name": "stderr",
     "output_type": "stream",
     "text": [
      "[nltk_data] Downloading package stopwords to\n",
      "[nltk_data]     /Users/nishithranjanbiswas/nltk_data...\n",
      "[nltk_data]   Unzipping corpora/stopwords.zip.\n"
     ]
    },
    {
     "data": {
      "text/plain": [
       "True"
      ]
     },
     "execution_count": 45,
     "metadata": {},
     "output_type": "execute_result"
    }
   ],
   "source": [
    "nltk.download('stopwords')"
   ]
  },
  {
   "cell_type": "code",
   "execution_count": 46,
   "id": "c66cf74c",
   "metadata": {},
   "outputs": [],
   "source": [
    "from nltk.corpus import stopwords"
   ]
  },
  {
   "cell_type": "code",
   "execution_count": 50,
   "id": "fc68d526",
   "metadata": {},
   "outputs": [
    {
     "name": "stdout",
     "output_type": "stream",
     "text": [
      "English stopwords:\n",
      "['i', 'me', 'my', 'myself', 'we', 'our', 'ours', 'ourselves', 'you', \"you're\", \"you've\", \"you'll\", \"you'd\", 'your', 'yours', 'yourself', 'yourselves', 'he', 'him', 'his', 'himself', 'she', \"she's\", 'her', 'hers', 'herself', 'it', \"it's\", 'its', 'itself', 'they', 'them', 'their', 'theirs', 'themselves', 'what', 'which', 'who', 'whom', 'this', 'that', \"that'll\", 'these', 'those', 'am', 'is', 'are', 'was', 'were', 'be', 'been', 'being', 'have', 'has', 'had', 'having', 'do', 'does', 'did', 'doing', 'a', 'an', 'the', 'and', 'but', 'if', 'or', 'because', 'as', 'until', 'while', 'of', 'at', 'by', 'for', 'with', 'about', 'against', 'between', 'into', 'through', 'during', 'before', 'after', 'above', 'below', 'to', 'from', 'up', 'down', 'in', 'out', 'on', 'off', 'over', 'under', 'again', 'further', 'then', 'once', 'here', 'there', 'when', 'where', 'why', 'how', 'all', 'any', 'both', 'each', 'few', 'more', 'most', 'other', 'some', 'such', 'no', 'nor', 'not', 'only', 'own', 'same', 'so', 'than', 'too', 'very', 's', 't', 'can', 'will', 'just', 'don', \"don't\", 'should', \"should've\", 'now', 'd', 'll', 'm', 'o', 're', 've', 'y', 'ain', 'aren', \"aren't\", 'couldn', \"couldn't\", 'didn', \"didn't\", 'doesn', \"doesn't\", 'hadn', \"hadn't\", 'hasn', \"hasn't\", 'haven', \"haven't\", 'isn', \"isn't\", 'ma', 'mightn', \"mightn't\", 'mustn', \"mustn't\", 'needn', \"needn't\", 'shan', \"shan't\", 'shouldn', \"shouldn't\", 'wasn', \"wasn't\", 'weren', \"weren't\", 'won', \"won't\", 'wouldn', \"wouldn't\"]\n"
     ]
    }
   ],
   "source": [
    "print('English stopwords:')\n",
    "print(stopwords.words('english'))"
   ]
  },
  {
   "cell_type": "code",
   "execution_count": 51,
   "id": "6febc2bc",
   "metadata": {},
   "outputs": [
    {
     "name": "stdout",
     "output_type": "stream",
     "text": [
      "German stopwords:\n",
      "['aber', 'alle', 'allem', 'allen', 'aller', 'alles', 'als', 'also', 'am', 'an', 'ander', 'andere', 'anderem', 'anderen', 'anderer', 'anderes', 'anderm', 'andern', 'anderr', 'anders', 'auch', 'auf', 'aus', 'bei', 'bin', 'bis', 'bist', 'da', 'damit', 'dann', 'der', 'den', 'des', 'dem', 'die', 'das', 'dass', 'daß', 'derselbe', 'derselben', 'denselben', 'desselben', 'demselben', 'dieselbe', 'dieselben', 'dasselbe', 'dazu', 'dein', 'deine', 'deinem', 'deinen', 'deiner', 'deines', 'denn', 'derer', 'dessen', 'dich', 'dir', 'du', 'dies', 'diese', 'diesem', 'diesen', 'dieser', 'dieses', 'doch', 'dort', 'durch', 'ein', 'eine', 'einem', 'einen', 'einer', 'eines', 'einig', 'einige', 'einigem', 'einigen', 'einiger', 'einiges', 'einmal', 'er', 'ihn', 'ihm', 'es', 'etwas', 'euer', 'eure', 'eurem', 'euren', 'eurer', 'eures', 'für', 'gegen', 'gewesen', 'hab', 'habe', 'haben', 'hat', 'hatte', 'hatten', 'hier', 'hin', 'hinter', 'ich', 'mich', 'mir', 'ihr', 'ihre', 'ihrem', 'ihren', 'ihrer', 'ihres', 'euch', 'im', 'in', 'indem', 'ins', 'ist', 'jede', 'jedem', 'jeden', 'jeder', 'jedes', 'jene', 'jenem', 'jenen', 'jener', 'jenes', 'jetzt', 'kann', 'kein', 'keine', 'keinem', 'keinen', 'keiner', 'keines', 'können', 'könnte', 'machen', 'man', 'manche', 'manchem', 'manchen', 'mancher', 'manches', 'mein', 'meine', 'meinem', 'meinen', 'meiner', 'meines', 'mit', 'muss', 'musste', 'nach', 'nicht', 'nichts', 'noch', 'nun', 'nur', 'ob', 'oder', 'ohne', 'sehr', 'sein', 'seine', 'seinem', 'seinen', 'seiner', 'seines', 'selbst', 'sich', 'sie', 'ihnen', 'sind', 'so', 'solche', 'solchem', 'solchen', 'solcher', 'solches', 'soll', 'sollte', 'sondern', 'sonst', 'über', 'um', 'und', 'uns', 'unsere', 'unserem', 'unseren', 'unser', 'unseres', 'unter', 'viel', 'vom', 'von', 'vor', 'während', 'war', 'waren', 'warst', 'was', 'weg', 'weil', 'weiter', 'welche', 'welchem', 'welchen', 'welcher', 'welches', 'wenn', 'werde', 'werden', 'wie', 'wieder', 'will', 'wir', 'wird', 'wirst', 'wo', 'wollen', 'wollte', 'würde', 'würden', 'zu', 'zum', 'zur', 'zwar', 'zwischen']\n"
     ]
    }
   ],
   "source": [
    "print('German stopwords:')\n",
    "print(stopwords.words('german'))"
   ]
  },
  {
   "cell_type": "code",
   "execution_count": 55,
   "id": "982c0207",
   "metadata": {},
   "outputs": [
    {
     "name": "stdout",
     "output_type": "stream",
     "text": [
      "Italian stopwords:\n",
      "['ad', 'al', 'allo', 'ai', 'agli', 'all', 'agl', 'alla', 'alle', 'con', 'col', 'coi', 'da', 'dal', 'dallo', 'dai', 'dagli', 'dall', 'dagl', 'dalla', 'dalle', 'di', 'del', 'dello', 'dei', 'degli', 'dell', 'degl', 'della', 'delle', 'in', 'nel', 'nello', 'nei', 'negli', 'nell', 'negl', 'nella', 'nelle', 'su', 'sul', 'sullo', 'sui', 'sugli', 'sull', 'sugl', 'sulla', 'sulle', 'per', 'tra', 'contro', 'io', 'tu', 'lui', 'lei', 'noi', 'voi', 'loro', 'mio', 'mia', 'miei', 'mie', 'tuo', 'tua', 'tuoi', 'tue', 'suo', 'sua', 'suoi', 'sue', 'nostro', 'nostra', 'nostri', 'nostre', 'vostro', 'vostra', 'vostri', 'vostre', 'mi', 'ti', 'ci', 'vi', 'lo', 'la', 'li', 'le', 'gli', 'ne', 'il', 'un', 'uno', 'una', 'ma', 'ed', 'se', 'perché', 'anche', 'come', 'dov', 'dove', 'che', 'chi', 'cui', 'non', 'più', 'quale', 'quanto', 'quanti', 'quanta', 'quante', 'quello', 'quelli', 'quella', 'quelle', 'questo', 'questi', 'questa', 'queste', 'si', 'tutto', 'tutti', 'a', 'c', 'e', 'i', 'l', 'o', 'ho', 'hai', 'ha', 'abbiamo', 'avete', 'hanno', 'abbia', 'abbiate', 'abbiano', 'avrò', 'avrai', 'avrà', 'avremo', 'avrete', 'avranno', 'avrei', 'avresti', 'avrebbe', 'avremmo', 'avreste', 'avrebbero', 'avevo', 'avevi', 'aveva', 'avevamo', 'avevate', 'avevano', 'ebbi', 'avesti', 'ebbe', 'avemmo', 'aveste', 'ebbero', 'avessi', 'avesse', 'avessimo', 'avessero', 'avendo', 'avuto', 'avuta', 'avuti', 'avute', 'sono', 'sei', 'è', 'siamo', 'siete', 'sia', 'siate', 'siano', 'sarò', 'sarai', 'sarà', 'saremo', 'sarete', 'saranno', 'sarei', 'saresti', 'sarebbe', 'saremmo', 'sareste', 'sarebbero', 'ero', 'eri', 'era', 'eravamo', 'eravate', 'erano', 'fui', 'fosti', 'fu', 'fummo', 'foste', 'furono', 'fossi', 'fosse', 'fossimo', 'fossero', 'essendo', 'faccio', 'fai', 'facciamo', 'fanno', 'faccia', 'facciate', 'facciano', 'farò', 'farai', 'farà', 'faremo', 'farete', 'faranno', 'farei', 'faresti', 'farebbe', 'faremmo', 'fareste', 'farebbero', 'facevo', 'facevi', 'faceva', 'facevamo', 'facevate', 'facevano', 'feci', 'facesti', 'fece', 'facemmo', 'faceste', 'fecero', 'facessi', 'facesse', 'facessimo', 'facessero', 'facendo', 'sto', 'stai', 'sta', 'stiamo', 'stanno', 'stia', 'stiate', 'stiano', 'starò', 'starai', 'starà', 'staremo', 'starete', 'staranno', 'starei', 'staresti', 'starebbe', 'staremmo', 'stareste', 'starebbero', 'stavo', 'stavi', 'stava', 'stavamo', 'stavate', 'stavano', 'stetti', 'stesti', 'stette', 'stemmo', 'steste', 'stettero', 'stessi', 'stesse', 'stessimo', 'stessero', 'stando']\n"
     ]
    }
   ],
   "source": [
    "print('Italian stopwords:')\n",
    "print(stopwords.words('italian'))"
   ]
  },
  {
   "cell_type": "code",
   "execution_count": 57,
   "id": "79e053ec",
   "metadata": {},
   "outputs": [
    {
     "data": {
      "text/plain": [
       "[('alice', 27),\n",
       " ('little', 15),\n",
       " ('think', 11),\n",
       " ('way', 11),\n",
       " ('like', 11),\n",
       " ('see', 10),\n",
       " ('one', 9),\n",
       " ('thought', 8),\n",
       " ('could', 8),\n",
       " ('time', 8),\n",
       " ('said', 8),\n",
       " ('get', 7),\n",
       " ('nothing', 7),\n",
       " ('well', 7),\n",
       " ('would', 7),\n",
       " ('went', 7),\n",
       " ('found', 7),\n",
       " ('eat', 7),\n",
       " ('door', 7),\n",
       " ('rabbit', 6)]"
      ]
     },
     "execution_count": 57,
     "metadata": {},
     "output_type": "execute_result"
    }
   ],
   "source": [
    "words_nostopwords = [w for w in words if w not in stopwords.words('english')]\n",
    "counts_nostopwords = nltk.Counter(words_nostopwords)\n",
    "counts_nostopwords.most_common(20)"
   ]
  },
  {
   "cell_type": "code",
   "execution_count": null,
   "id": "6f575e90",
   "metadata": {},
   "outputs": [],
   "source": []
  }
 ],
 "metadata": {
  "kernelspec": {
   "display_name": "Python 3 (ipykernel)",
   "language": "python",
   "name": "python3"
  },
  "language_info": {
   "codemirror_mode": {
    "name": "ipython",
    "version": 3
   },
   "file_extension": ".py",
   "mimetype": "text/x-python",
   "name": "python",
   "nbconvert_exporter": "python",
   "pygments_lexer": "ipython3",
   "version": "3.11.5"
  }
 },
 "nbformat": 4,
 "nbformat_minor": 5
}
